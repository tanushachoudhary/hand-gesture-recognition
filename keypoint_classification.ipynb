{
 "cells": [
  {
   "cell_type": "code",
   "metadata": {
    "ExecuteTime": {
     "end_time": "2025-06-30T03:38:11.604538Z",
     "start_time": "2025-06-30T03:38:11.580995Z"
    }
   },
   "source": [
    "import csv\n",
    "import numpy as np\n",
    "import tensorflow as tf\n",
    "from sklearn.model_selection import train_test_split\n",
    "\n",
    "RANDOM_SEED = 42"
   ],
   "outputs": [],
   "execution_count": 14
  },
  {
   "cell_type": "markdown",
   "metadata": {},
   "source": [
    "# 各パス指定"
   ]
  },
  {
   "cell_type": "code",
   "metadata": {
    "ExecuteTime": {
     "end_time": "2025-06-30T03:38:12.240238Z",
     "start_time": "2025-06-30T03:38:12.216138Z"
    }
   },
   "source": [
    "dataset = 'model/keypoint_classifier/keypoint.csv'\n",
    "model_save_path = 'model/keypoint_classifier/keypoint_classifier.hdf5'"
   ],
   "outputs": [],
   "execution_count": 15
  },
  {
   "cell_type": "markdown",
   "metadata": {},
   "source": [
    "# 分類数設定"
   ]
  },
  {
   "cell_type": "code",
   "metadata": {
    "ExecuteTime": {
     "end_time": "2025-06-30T03:38:12.790759Z",
     "start_time": "2025-06-30T03:38:12.779759Z"
    }
   },
   "source": "NUM_CLASSES = 8",
   "outputs": [],
   "execution_count": 16
  },
  {
   "cell_type": "markdown",
   "metadata": {},
   "source": [
    "# 学習データ読み込み"
   ]
  },
  {
   "cell_type": "code",
   "metadata": {
    "ExecuteTime": {
     "end_time": "2025-06-30T03:38:13.662675Z",
     "start_time": "2025-06-30T03:38:13.573757Z"
    }
   },
   "source": [
    "X_dataset = np.loadtxt(dataset, delimiter=',', dtype='float32', usecols=list(range(1, (21 * 2) + 1)))"
   ],
   "outputs": [],
   "execution_count": 17
  },
  {
   "cell_type": "code",
   "metadata": {
    "ExecuteTime": {
     "end_time": "2025-06-30T03:38:14.006402Z",
     "start_time": "2025-06-30T03:38:13.962310Z"
    }
   },
   "source": [
    "y_dataset = np.loadtxt(dataset, delimiter=',', dtype='int32', usecols=(0))"
   ],
   "outputs": [],
   "execution_count": 18
  },
  {
   "cell_type": "code",
   "metadata": {
    "ExecuteTime": {
     "end_time": "2025-06-30T03:38:14.301445Z",
     "start_time": "2025-06-30T03:38:14.273218Z"
    }
   },
   "source": "X_train, X_test, y_train, y_test = train_test_split(X_dataset, y_dataset, train_size=0.75, random_state=RANDOM_SEED)",
   "outputs": [],
   "execution_count": 19
  },
  {
   "cell_type": "markdown",
   "metadata": {},
   "source": [
    "# モデル構築"
   ]
  },
  {
   "cell_type": "code",
   "metadata": {
    "ExecuteTime": {
     "end_time": "2025-06-30T03:38:15.262111Z",
     "start_time": "2025-06-30T03:38:15.115833Z"
    }
   },
   "source": [
    "model = tf.keras.models.Sequential([\n",
    "    tf.keras.layers.Input((21 * 2, )),\n",
    "    tf.keras.layers.Dropout(0.2),\n",
    "    tf.keras.layers.Dense(20, activation='relu'),\n",
    "    tf.keras.layers.Dropout(0.4),\n",
    "    tf.keras.layers.Dense(10, activation='relu'),\n",
    "    tf.keras.layers.Dense(NUM_CLASSES, activation='softmax')\n",
    "])"
   ],
   "outputs": [],
   "execution_count": 20
  },
  {
   "cell_type": "code",
   "metadata": {
    "ExecuteTime": {
     "end_time": "2025-06-30T03:38:15.545641Z",
     "start_time": "2025-06-30T03:38:15.504917Z"
    }
   },
   "source": [
    "model.summary()  # tf.keras.utils.plot_model(model, show_shapes=True)"
   ],
   "outputs": [
    {
     "name": "stdout",
     "output_type": "stream",
     "text": [
      "Model: \"sequential_1\"\n",
      "_________________________________________________________________\n",
      " Layer (type)                Output Shape              Param #   \n",
      "=================================================================\n",
      " dropout_2 (Dropout)         (None, 42)                0         \n",
      "                                                                 \n",
      " dense_3 (Dense)             (None, 20)                860       \n",
      "                                                                 \n",
      " dropout_3 (Dropout)         (None, 20)                0         \n",
      "                                                                 \n",
      " dense_4 (Dense)             (None, 10)                210       \n",
      "                                                                 \n",
      " dense_5 (Dense)             (None, 8)                 88        \n",
      "                                                                 \n",
      "=================================================================\n",
      "Total params: 1,158\n",
      "Trainable params: 1,158\n",
      "Non-trainable params: 0\n",
      "_________________________________________________________________\n"
     ]
    }
   ],
   "execution_count": 21
  },
  {
   "cell_type": "code",
   "metadata": {
    "ExecuteTime": {
     "end_time": "2025-06-30T03:38:16.124746Z",
     "start_time": "2025-06-30T03:38:16.116736Z"
    }
   },
   "source": [
    "# モデルチェックポイントのコールバック\n",
    "cp_callback = tf.keras.callbacks.ModelCheckpoint(\n",
    "    model_save_path, verbose=1, save_weights_only=False)\n",
    "# 早期打ち切り用コールバック\n",
    "es_callback = tf.keras.callbacks.EarlyStopping(patience=20, verbose=1)"
   ],
   "outputs": [],
   "execution_count": 22
  },
  {
   "cell_type": "code",
   "metadata": {
    "ExecuteTime": {
     "end_time": "2025-06-30T03:38:16.596675Z",
     "start_time": "2025-06-30T03:38:16.569445Z"
    }
   },
   "source": [
    "# モデルコンパイル\n",
    "model.compile(\n",
    "    optimizer='adam',\n",
    "    loss='sparse_categorical_crossentropy',\n",
    "    metrics=['accuracy']\n",
    ")"
   ],
   "outputs": [],
   "execution_count": 23
  },
  {
   "cell_type": "markdown",
   "metadata": {},
   "source": [
    "# モデル訓練"
   ]
  },
  {
   "cell_type": "code",
   "metadata": {
    "scrolled": true,
    "ExecuteTime": {
     "end_time": "2025-06-30T03:38:57.412891Z",
     "start_time": "2025-06-30T03:38:19.206511Z"
    }
   },
   "source": [
    "model.fit(\n",
    "    X_train,\n",
    "    y_train,\n",
    "    epochs=1000,\n",
    "    batch_size=128,\n",
    "    validation_data=(X_test, y_test),\n",
    "    callbacks=[cp_callback, es_callback]\n",
    ")"
   ],
   "outputs": [
    {
     "name": "stdout",
     "output_type": "stream",
     "text": [
      "Epoch 1/1000\n",
      "21/30 [====================>.........] - ETA: 0s - loss: 2.0710 - accuracy: 0.1637 \n",
      "Epoch 1: saving model to model/keypoint_classifier\\keypoint_classifier.hdf5\n",
      "30/30 [==============================] - 1s 9ms/step - loss: 2.0387 - accuracy: 0.1895 - val_loss: 1.8991 - val_accuracy: 0.2308\n",
      "Epoch 2/1000\n",
      "22/30 [=====================>........] - ETA: 0s - loss: 1.8297 - accuracy: 0.2969\n",
      "Epoch 2: saving model to model/keypoint_classifier\\keypoint_classifier.hdf5\n",
      "30/30 [==============================] - 0s 5ms/step - loss: 1.8059 - accuracy: 0.3094 - val_loss: 1.6676 - val_accuracy: 0.3565\n",
      "Epoch 3/1000\n",
      "28/30 [===========================>..] - ETA: 0s - loss: 1.6308 - accuracy: 0.3351\n",
      "Epoch 3: saving model to model/keypoint_classifier\\keypoint_classifier.hdf5\n",
      "30/30 [==============================] - 0s 4ms/step - loss: 1.6266 - accuracy: 0.3362 - val_loss: 1.4594 - val_accuracy: 0.4134\n",
      "Epoch 4/1000\n",
      "29/30 [============================>.] - ETA: 0s - loss: 1.5062 - accuracy: 0.3839\n",
      "Epoch 4: saving model to model/keypoint_classifier\\keypoint_classifier.hdf5\n",
      "30/30 [==============================] - 0s 4ms/step - loss: 1.5005 - accuracy: 0.3866 - val_loss: 1.3383 - val_accuracy: 0.4964\n",
      "Epoch 5/1000\n",
      "29/30 [============================>.] - ETA: 0s - loss: 1.4273 - accuracy: 0.4184\n",
      "Epoch 5: saving model to model/keypoint_classifier\\keypoint_classifier.hdf5\n",
      "30/30 [==============================] - 0s 4ms/step - loss: 1.4267 - accuracy: 0.4184 - val_loss: 1.2474 - val_accuracy: 0.6079\n",
      "Epoch 6/1000\n",
      " 1/30 [>.............................] - ETA: 0s - loss: 1.4914 - accuracy: 0.4141\n",
      "Epoch 6: saving model to model/keypoint_classifier\\keypoint_classifier.hdf5\n",
      "30/30 [==============================] - 0s 4ms/step - loss: 1.3866 - accuracy: 0.4559 - val_loss: 1.1681 - val_accuracy: 0.6316\n",
      "Epoch 7/1000\n",
      " 1/30 [>.............................] - ETA: 0s - loss: 1.2489 - accuracy: 0.5391\n",
      "Epoch 7: saving model to model/keypoint_classifier\\keypoint_classifier.hdf5\n",
      "30/30 [==============================] - 0s 4ms/step - loss: 1.3103 - accuracy: 0.4885 - val_loss: 1.0956 - val_accuracy: 0.6711\n",
      "Epoch 8/1000\n",
      "20/30 [===================>..........] - ETA: 0s - loss: 1.2733 - accuracy: 0.5051\n",
      "Epoch 8: saving model to model/keypoint_classifier\\keypoint_classifier.hdf5\n",
      "30/30 [==============================] - 0s 5ms/step - loss: 1.2750 - accuracy: 0.5054 - val_loss: 1.0386 - val_accuracy: 0.6775\n",
      "Epoch 9/1000\n",
      "28/30 [===========================>..] - ETA: 0s - loss: 1.2455 - accuracy: 0.5148\n",
      "Epoch 9: saving model to model/keypoint_classifier\\keypoint_classifier.hdf5\n",
      "30/30 [==============================] - 0s 4ms/step - loss: 1.2433 - accuracy: 0.5133 - val_loss: 0.9908 - val_accuracy: 0.7036\n",
      "Epoch 10/1000\n",
      " 1/30 [>.............................] - ETA: 0s - loss: 1.2892 - accuracy: 0.5000\n",
      "Epoch 10: saving model to model/keypoint_classifier\\keypoint_classifier.hdf5\n",
      "30/30 [==============================] - 0s 4ms/step - loss: 1.1921 - accuracy: 0.5341 - val_loss: 0.9429 - val_accuracy: 0.7075\n",
      "Epoch 11/1000\n",
      " 1/30 [>.............................] - ETA: 0s - loss: 1.2260 - accuracy: 0.5703\n",
      "Epoch 11: saving model to model/keypoint_classifier\\keypoint_classifier.hdf5\n",
      "30/30 [==============================] - 0s 4ms/step - loss: 1.1596 - accuracy: 0.5513 - val_loss: 0.9007 - val_accuracy: 0.7407\n",
      "Epoch 12/1000\n",
      "27/30 [==========================>...] - ETA: 0s - loss: 1.1349 - accuracy: 0.5645\n",
      "Epoch 12: saving model to model/keypoint_classifier\\keypoint_classifier.hdf5\n",
      "30/30 [==============================] - 0s 5ms/step - loss: 1.1347 - accuracy: 0.5663 - val_loss: 0.8597 - val_accuracy: 0.7415\n",
      "Epoch 13/1000\n",
      "16/30 [===============>..............] - ETA: 0s - loss: 1.0976 - accuracy: 0.5801\n",
      "Epoch 13: saving model to model/keypoint_classifier\\keypoint_classifier.hdf5\n",
      "30/30 [==============================] - 0s 6ms/step - loss: 1.1061 - accuracy: 0.5768 - val_loss: 0.8245 - val_accuracy: 0.7605\n",
      "Epoch 14/1000\n",
      " 1/30 [>.............................] - ETA: 0s - loss: 1.1085 - accuracy: 0.6094\n",
      "Epoch 14: saving model to model/keypoint_classifier\\keypoint_classifier.hdf5\n",
      "30/30 [==============================] - 0s 4ms/step - loss: 1.0915 - accuracy: 0.5834 - val_loss: 0.7936 - val_accuracy: 0.7668\n",
      "Epoch 15/1000\n",
      "28/30 [===========================>..] - ETA: 0s - loss: 1.0512 - accuracy: 0.5971\n",
      "Epoch 15: saving model to model/keypoint_classifier\\keypoint_classifier.hdf5\n",
      "30/30 [==============================] - 0s 5ms/step - loss: 1.0506 - accuracy: 0.5992 - val_loss: 0.7602 - val_accuracy: 0.8332\n",
      "Epoch 16/1000\n",
      "23/30 [======================>.......] - ETA: 0s - loss: 1.0479 - accuracy: 0.6043\n",
      "Epoch 16: saving model to model/keypoint_classifier\\keypoint_classifier.hdf5\n",
      "30/30 [==============================] - 0s 5ms/step - loss: 1.0424 - accuracy: 0.6071 - val_loss: 0.7330 - val_accuracy: 0.8379\n",
      "Epoch 17/1000\n",
      " 1/30 [>.............................] - ETA: 0s - loss: 1.0416 - accuracy: 0.6016\n",
      "Epoch 17: saving model to model/keypoint_classifier\\keypoint_classifier.hdf5\n",
      "30/30 [==============================] - 0s 4ms/step - loss: 1.0264 - accuracy: 0.6121 - val_loss: 0.7038 - val_accuracy: 0.8474\n",
      "Epoch 18/1000\n",
      " 1/30 [>.............................] - ETA: 0s - loss: 0.9712 - accuracy: 0.5469\n",
      "Epoch 18: saving model to model/keypoint_classifier\\keypoint_classifier.hdf5\n",
      "30/30 [==============================] - 0s 4ms/step - loss: 0.9849 - accuracy: 0.6155 - val_loss: 0.6856 - val_accuracy: 0.8522\n",
      "Epoch 19/1000\n",
      "16/30 [===============>..............] - ETA: 0s - loss: 1.0015 - accuracy: 0.6138\n",
      "Epoch 19: saving model to model/keypoint_classifier\\keypoint_classifier.hdf5\n",
      "30/30 [==============================] - 0s 5ms/step - loss: 0.9818 - accuracy: 0.6258 - val_loss: 0.6645 - val_accuracy: 0.8601\n",
      "Epoch 20/1000\n",
      " 1/30 [>.............................] - ETA: 0s - loss: 0.9451 - accuracy: 0.6328\n",
      "Epoch 20: saving model to model/keypoint_classifier\\keypoint_classifier.hdf5\n",
      "30/30 [==============================] - 0s 4ms/step - loss: 0.9734 - accuracy: 0.6240 - val_loss: 0.6414 - val_accuracy: 0.8711\n",
      "Epoch 21/1000\n",
      "30/30 [==============================] - ETA: 0s - loss: 0.9538 - accuracy: 0.6356\n",
      "Epoch 21: saving model to model/keypoint_classifier\\keypoint_classifier.hdf5\n",
      "30/30 [==============================] - 0s 4ms/step - loss: 0.9538 - accuracy: 0.6356 - val_loss: 0.6178 - val_accuracy: 0.8727\n",
      "Epoch 22/1000\n",
      "29/30 [============================>.] - ETA: 0s - loss: 0.9290 - accuracy: 0.6501\n",
      "Epoch 22: saving model to model/keypoint_classifier\\keypoint_classifier.hdf5\n",
      "30/30 [==============================] - 0s 4ms/step - loss: 0.9347 - accuracy: 0.6477 - val_loss: 0.6031 - val_accuracy: 0.8704\n",
      "Epoch 23/1000\n",
      "29/30 [============================>.] - ETA: 0s - loss: 0.9215 - accuracy: 0.6519\n",
      "Epoch 23: saving model to model/keypoint_classifier\\keypoint_classifier.hdf5\n",
      "30/30 [==============================] - 0s 5ms/step - loss: 0.9223 - accuracy: 0.6509 - val_loss: 0.5885 - val_accuracy: 0.8783\n",
      "Epoch 24/1000\n",
      "29/30 [============================>.] - ETA: 0s - loss: 0.8941 - accuracy: 0.6606\n",
      "Epoch 24: saving model to model/keypoint_classifier\\keypoint_classifier.hdf5\n",
      "30/30 [==============================] - 0s 5ms/step - loss: 0.8943 - accuracy: 0.6598 - val_loss: 0.5685 - val_accuracy: 0.8885\n",
      "Epoch 25/1000\n",
      "26/30 [=========================>....] - ETA: 0s - loss: 0.9018 - accuracy: 0.6436\n",
      "Epoch 25: saving model to model/keypoint_classifier\\keypoint_classifier.hdf5\n",
      "30/30 [==============================] - 0s 5ms/step - loss: 0.9058 - accuracy: 0.6456 - val_loss: 0.5594 - val_accuracy: 0.8925\n",
      "Epoch 26/1000\n",
      "24/30 [=======================>......] - ETA: 0s - loss: 0.8664 - accuracy: 0.6787\n",
      "Epoch 26: saving model to model/keypoint_classifier\\keypoint_classifier.hdf5\n",
      "30/30 [==============================] - 0s 5ms/step - loss: 0.8711 - accuracy: 0.6767 - val_loss: 0.5420 - val_accuracy: 0.8941\n",
      "Epoch 27/1000\n",
      "21/30 [====================>.........] - ETA: 0s - loss: 0.8627 - accuracy: 0.6797\n",
      "Epoch 27: saving model to model/keypoint_classifier\\keypoint_classifier.hdf5\n",
      "30/30 [==============================] - 0s 5ms/step - loss: 0.8618 - accuracy: 0.6806 - val_loss: 0.5307 - val_accuracy: 0.8964\n",
      "Epoch 28/1000\n",
      " 1/30 [>.............................] - ETA: 0s - loss: 1.0347 - accuracy: 0.5781\n",
      "Epoch 28: saving model to model/keypoint_classifier\\keypoint_classifier.hdf5\n",
      "30/30 [==============================] - 0s 4ms/step - loss: 0.8629 - accuracy: 0.6706 - val_loss: 0.5198 - val_accuracy: 0.9043\n",
      "Epoch 29/1000\n",
      " 1/30 [>.............................] - ETA: 0s - loss: 0.8213 - accuracy: 0.6953\n",
      "Epoch 29: saving model to model/keypoint_classifier\\keypoint_classifier.hdf5\n",
      "30/30 [==============================] - 0s 4ms/step - loss: 0.8491 - accuracy: 0.6793 - val_loss: 0.5044 - val_accuracy: 0.9059\n",
      "Epoch 30/1000\n",
      "26/30 [=========================>....] - ETA: 0s - loss: 0.8736 - accuracy: 0.6599\n",
      "Epoch 30: saving model to model/keypoint_classifier\\keypoint_classifier.hdf5\n",
      "30/30 [==============================] - 0s 5ms/step - loss: 0.8733 - accuracy: 0.6630 - val_loss: 0.5065 - val_accuracy: 0.9051\n",
      "Epoch 31/1000\n",
      "27/30 [==========================>...] - ETA: 0s - loss: 0.8349 - accuracy: 0.6994\n",
      "Epoch 31: saving model to model/keypoint_classifier\\keypoint_classifier.hdf5\n",
      "30/30 [==============================] - 0s 4ms/step - loss: 0.8402 - accuracy: 0.6949 - val_loss: 0.4920 - val_accuracy: 0.9107\n",
      "Epoch 32/1000\n",
      "28/30 [===========================>..] - ETA: 0s - loss: 0.8369 - accuracy: 0.6839\n",
      "Epoch 32: saving model to model/keypoint_classifier\\keypoint_classifier.hdf5\n",
      "30/30 [==============================] - 0s 5ms/step - loss: 0.8348 - accuracy: 0.6835 - val_loss: 0.4831 - val_accuracy: 0.9146\n",
      "Epoch 33/1000\n",
      "26/30 [=========================>....] - ETA: 0s - loss: 0.8359 - accuracy: 0.6746\n",
      "Epoch 33: saving model to model/keypoint_classifier\\keypoint_classifier.hdf5\n",
      "30/30 [==============================] - 0s 5ms/step - loss: 0.8358 - accuracy: 0.6756 - val_loss: 0.4787 - val_accuracy: 0.9083\n",
      "Epoch 34/1000\n",
      "19/30 [==================>...........] - ETA: 0s - loss: 0.7886 - accuracy: 0.6957\n",
      "Epoch 34: saving model to model/keypoint_classifier\\keypoint_classifier.hdf5\n",
      "30/30 [==============================] - 0s 6ms/step - loss: 0.7956 - accuracy: 0.6959 - val_loss: 0.4673 - val_accuracy: 0.9138\n",
      "Epoch 35/1000\n",
      "20/30 [===================>..........] - ETA: 0s - loss: 0.7982 - accuracy: 0.6902\n",
      "Epoch 35: saving model to model/keypoint_classifier\\keypoint_classifier.hdf5\n",
      "30/30 [==============================] - 0s 6ms/step - loss: 0.7977 - accuracy: 0.6967 - val_loss: 0.4638 - val_accuracy: 0.9115\n",
      "Epoch 36/1000\n",
      "23/30 [======================>.......] - ETA: 0s - loss: 0.8013 - accuracy: 0.6919\n",
      "Epoch 36: saving model to model/keypoint_classifier\\keypoint_classifier.hdf5\n",
      "30/30 [==============================] - 0s 5ms/step - loss: 0.7975 - accuracy: 0.7009 - val_loss: 0.4468 - val_accuracy: 0.9217\n",
      "Epoch 37/1000\n",
      "24/30 [=======================>......] - ETA: 0s - loss: 0.8227 - accuracy: 0.6937\n",
      "Epoch 37: saving model to model/keypoint_classifier\\keypoint_classifier.hdf5\n",
      "30/30 [==============================] - 0s 5ms/step - loss: 0.8126 - accuracy: 0.6991 - val_loss: 0.4447 - val_accuracy: 0.9241\n",
      "Epoch 38/1000\n",
      "28/30 [===========================>..] - ETA: 0s - loss: 0.7975 - accuracy: 0.6995\n",
      "Epoch 38: saving model to model/keypoint_classifier\\keypoint_classifier.hdf5\n",
      "30/30 [==============================] - 0s 4ms/step - loss: 0.7995 - accuracy: 0.6970 - val_loss: 0.4404 - val_accuracy: 0.9186\n",
      "Epoch 39/1000\n",
      "22/30 [=====================>........] - ETA: 0s - loss: 0.8095 - accuracy: 0.7017\n",
      "Epoch 39: saving model to model/keypoint_classifier\\keypoint_classifier.hdf5\n",
      "30/30 [==============================] - 0s 5ms/step - loss: 0.8107 - accuracy: 0.7020 - val_loss: 0.4317 - val_accuracy: 0.9281\n",
      "Epoch 40/1000\n",
      "24/30 [=======================>......] - ETA: 0s - loss: 0.8022 - accuracy: 0.6934\n",
      "Epoch 40: saving model to model/keypoint_classifier\\keypoint_classifier.hdf5\n",
      "30/30 [==============================] - 0s 5ms/step - loss: 0.7911 - accuracy: 0.6988 - val_loss: 0.4414 - val_accuracy: 0.9123\n",
      "Epoch 41/1000\n",
      "16/30 [===============>..............] - ETA: 0s - loss: 0.7445 - accuracy: 0.7275\n",
      "Epoch 41: saving model to model/keypoint_classifier\\keypoint_classifier.hdf5\n",
      "30/30 [==============================] - 0s 6ms/step - loss: 0.7623 - accuracy: 0.7202 - val_loss: 0.4220 - val_accuracy: 0.9225\n",
      "Epoch 42/1000\n",
      "23/30 [======================>.......] - ETA: 0s - loss: 0.7646 - accuracy: 0.7164\n",
      "Epoch 42: saving model to model/keypoint_classifier\\keypoint_classifier.hdf5\n",
      "30/30 [==============================] - 0s 6ms/step - loss: 0.7781 - accuracy: 0.7080 - val_loss: 0.4145 - val_accuracy: 0.9281\n",
      "Epoch 43/1000\n",
      "17/30 [================>.............] - ETA: 0s - loss: 0.7581 - accuracy: 0.7238\n",
      "Epoch 43: saving model to model/keypoint_classifier\\keypoint_classifier.hdf5\n",
      "30/30 [==============================] - 0s 6ms/step - loss: 0.7478 - accuracy: 0.7215 - val_loss: 0.4114 - val_accuracy: 0.9273\n",
      "Epoch 44/1000\n",
      "22/30 [=====================>........] - ETA: 0s - loss: 0.7440 - accuracy: 0.7177\n",
      "Epoch 44: saving model to model/keypoint_classifier\\keypoint_classifier.hdf5\n",
      "30/30 [==============================] - 0s 4ms/step - loss: 0.7440 - accuracy: 0.7194 - val_loss: 0.4047 - val_accuracy: 0.9265\n",
      "Epoch 45/1000\n",
      "25/30 [========================>.....] - ETA: 0s - loss: 0.7584 - accuracy: 0.7131\n",
      "Epoch 45: saving model to model/keypoint_classifier\\keypoint_classifier.hdf5\n",
      "30/30 [==============================] - 0s 4ms/step - loss: 0.7624 - accuracy: 0.7136 - val_loss: 0.4023 - val_accuracy: 0.9265\n",
      "Epoch 46/1000\n",
      "23/30 [======================>.......] - ETA: 0s - loss: 0.7486 - accuracy: 0.7262\n",
      "Epoch 46: saving model to model/keypoint_classifier\\keypoint_classifier.hdf5\n",
      "30/30 [==============================] - 0s 5ms/step - loss: 0.7471 - accuracy: 0.7249 - val_loss: 0.3999 - val_accuracy: 0.9241\n",
      "Epoch 47/1000\n",
      "22/30 [=====================>........] - ETA: 0s - loss: 0.7697 - accuracy: 0.6996\n",
      "Epoch 47: saving model to model/keypoint_classifier\\keypoint_classifier.hdf5\n",
      "30/30 [==============================] - 0s 15ms/step - loss: 0.7573 - accuracy: 0.7067 - val_loss: 0.3968 - val_accuracy: 0.9265\n",
      "Epoch 48/1000\n",
      "25/30 [========================>.....] - ETA: 0s - loss: 0.7443 - accuracy: 0.7231\n",
      "Epoch 48: saving model to model/keypoint_classifier\\keypoint_classifier.hdf5\n",
      "30/30 [==============================] - 0s 9ms/step - loss: 0.7420 - accuracy: 0.7249 - val_loss: 0.3889 - val_accuracy: 0.9241\n",
      "Epoch 49/1000\n",
      "24/30 [=======================>......] - ETA: 0s - loss: 0.7656 - accuracy: 0.7145\n",
      "Epoch 49: saving model to model/keypoint_classifier\\keypoint_classifier.hdf5\n",
      "30/30 [==============================] - 0s 10ms/step - loss: 0.7508 - accuracy: 0.7233 - val_loss: 0.3854 - val_accuracy: 0.9257\n",
      "Epoch 50/1000\n",
      "24/30 [=======================>......] - ETA: 0s - loss: 0.7396 - accuracy: 0.7243\n",
      "Epoch 50: saving model to model/keypoint_classifier\\keypoint_classifier.hdf5\n",
      "30/30 [==============================] - 0s 9ms/step - loss: 0.7363 - accuracy: 0.7291 - val_loss: 0.3785 - val_accuracy: 0.9273\n",
      "Epoch 51/1000\n",
      "16/30 [===============>..............] - ETA: 0s - loss: 0.7575 - accuracy: 0.7227\n",
      "Epoch 51: saving model to model/keypoint_classifier\\keypoint_classifier.hdf5\n",
      "30/30 [==============================] - 0s 7ms/step - loss: 0.7255 - accuracy: 0.7344 - val_loss: 0.3746 - val_accuracy: 0.9281\n",
      "Epoch 52/1000\n",
      "25/30 [========================>.....] - ETA: 0s - loss: 0.7285 - accuracy: 0.7331\n",
      "Epoch 52: saving model to model/keypoint_classifier\\keypoint_classifier.hdf5\n",
      "30/30 [==============================] - 0s 10ms/step - loss: 0.7305 - accuracy: 0.7318 - val_loss: 0.3703 - val_accuracy: 0.9336\n",
      "Epoch 53/1000\n",
      "27/30 [==========================>...] - ETA: 0s - loss: 0.7152 - accuracy: 0.7355\n",
      "Epoch 53: saving model to model/keypoint_classifier\\keypoint_classifier.hdf5\n",
      "30/30 [==============================] - 0s 10ms/step - loss: 0.7053 - accuracy: 0.7381 - val_loss: 0.3644 - val_accuracy: 0.9344\n",
      "Epoch 54/1000\n",
      "17/30 [================>.............] - ETA: 0s - loss: 0.7176 - accuracy: 0.7284\n",
      "Epoch 54: saving model to model/keypoint_classifier\\keypoint_classifier.hdf5\n",
      "30/30 [==============================] - 0s 7ms/step - loss: 0.7283 - accuracy: 0.7302 - val_loss: 0.3601 - val_accuracy: 0.9281\n",
      "Epoch 55/1000\n",
      "17/30 [================>.............] - ETA: 0s - loss: 0.7121 - accuracy: 0.7293\n",
      "Epoch 55: saving model to model/keypoint_classifier\\keypoint_classifier.hdf5\n",
      "30/30 [==============================] - 0s 7ms/step - loss: 0.7135 - accuracy: 0.7360 - val_loss: 0.3624 - val_accuracy: 0.9296\n",
      "Epoch 56/1000\n",
      "20/30 [===================>..........] - ETA: 0s - loss: 0.7203 - accuracy: 0.7305\n",
      "Epoch 56: saving model to model/keypoint_classifier\\keypoint_classifier.hdf5\n",
      "30/30 [==============================] - 0s 7ms/step - loss: 0.7142 - accuracy: 0.7307 - val_loss: 0.3572 - val_accuracy: 0.9304\n",
      "Epoch 57/1000\n",
      "21/30 [====================>.........] - ETA: 0s - loss: 0.7117 - accuracy: 0.7414\n",
      "Epoch 57: saving model to model/keypoint_classifier\\keypoint_classifier.hdf5\n",
      "30/30 [==============================] - 0s 7ms/step - loss: 0.7119 - accuracy: 0.7375 - val_loss: 0.3526 - val_accuracy: 0.9273\n",
      "Epoch 58/1000\n",
      "27/30 [==========================>...] - ETA: 0s - loss: 0.6947 - accuracy: 0.7436\n",
      "Epoch 58: saving model to model/keypoint_classifier\\keypoint_classifier.hdf5\n",
      "30/30 [==============================] - 0s 12ms/step - loss: 0.7017 - accuracy: 0.7412 - val_loss: 0.3422 - val_accuracy: 0.9336\n",
      "Epoch 59/1000\n",
      "20/30 [===================>..........] - ETA: 0s - loss: 0.7039 - accuracy: 0.7324\n",
      "Epoch 59: saving model to model/keypoint_classifier\\keypoint_classifier.hdf5\n",
      "30/30 [==============================] - 0s 10ms/step - loss: 0.7088 - accuracy: 0.7315 - val_loss: 0.3468 - val_accuracy: 0.9344\n",
      "Epoch 60/1000\n",
      "23/30 [======================>.......] - ETA: 0s - loss: 0.7400 - accuracy: 0.7300\n",
      "Epoch 60: saving model to model/keypoint_classifier\\keypoint_classifier.hdf5\n",
      "30/30 [==============================] - 0s 9ms/step - loss: 0.7210 - accuracy: 0.7357 - val_loss: 0.3490 - val_accuracy: 0.9304\n",
      "Epoch 61/1000\n",
      "16/30 [===============>..............] - ETA: 0s - loss: 0.6864 - accuracy: 0.7471\n",
      "Epoch 61: saving model to model/keypoint_classifier\\keypoint_classifier.hdf5\n",
      "30/30 [==============================] - 0s 7ms/step - loss: 0.7120 - accuracy: 0.7386 - val_loss: 0.3478 - val_accuracy: 0.9328\n",
      "Epoch 62/1000\n",
      "12/30 [===========>..................] - ETA: 0s - loss: 0.6811 - accuracy: 0.7376\n",
      "Epoch 62: saving model to model/keypoint_classifier\\keypoint_classifier.hdf5\n",
      "30/30 [==============================] - 0s 8ms/step - loss: 0.6889 - accuracy: 0.7383 - val_loss: 0.3429 - val_accuracy: 0.9320\n",
      "Epoch 63/1000\n",
      "25/30 [========================>.....] - ETA: 0s - loss: 0.7012 - accuracy: 0.7391\n",
      "Epoch 63: saving model to model/keypoint_classifier\\keypoint_classifier.hdf5\n",
      "30/30 [==============================] - 0s 9ms/step - loss: 0.6994 - accuracy: 0.7389 - val_loss: 0.3362 - val_accuracy: 0.9336\n",
      "Epoch 64/1000\n",
      "20/30 [===================>..........] - ETA: 0s - loss: 0.7001 - accuracy: 0.7387\n",
      "Epoch 64: saving model to model/keypoint_classifier\\keypoint_classifier.hdf5\n",
      "30/30 [==============================] - 0s 8ms/step - loss: 0.6924 - accuracy: 0.7412 - val_loss: 0.3386 - val_accuracy: 0.9304\n",
      "Epoch 65/1000\n",
      "25/30 [========================>.....] - ETA: 0s - loss: 0.6811 - accuracy: 0.7500\n",
      "Epoch 65: saving model to model/keypoint_classifier\\keypoint_classifier.hdf5\n",
      "30/30 [==============================] - 0s 9ms/step - loss: 0.6859 - accuracy: 0.7491 - val_loss: 0.3319 - val_accuracy: 0.9336\n",
      "Epoch 66/1000\n",
      "26/30 [=========================>....] - ETA: 0s - loss: 0.6859 - accuracy: 0.7455\n",
      "Epoch 66: saving model to model/keypoint_classifier\\keypoint_classifier.hdf5\n",
      "30/30 [==============================] - 0s 12ms/step - loss: 0.6878 - accuracy: 0.7431 - val_loss: 0.3268 - val_accuracy: 0.9304\n",
      "Epoch 67/1000\n",
      "30/30 [==============================] - ETA: 0s - loss: 0.6921 - accuracy: 0.7370\n",
      "Epoch 67: saving model to model/keypoint_classifier\\keypoint_classifier.hdf5\n",
      "30/30 [==============================] - 0s 10ms/step - loss: 0.6921 - accuracy: 0.7370 - val_loss: 0.3289 - val_accuracy: 0.9360\n",
      "Epoch 68/1000\n",
      "27/30 [==========================>...] - ETA: 0s - loss: 0.6923 - accuracy: 0.7364\n",
      "Epoch 68: saving model to model/keypoint_classifier\\keypoint_classifier.hdf5\n",
      "30/30 [==============================] - 0s 11ms/step - loss: 0.6900 - accuracy: 0.7383 - val_loss: 0.3296 - val_accuracy: 0.9320\n",
      "Epoch 69/1000\n",
      "20/30 [===================>..........] - ETA: 0s - loss: 0.7027 - accuracy: 0.7344\n",
      "Epoch 69: saving model to model/keypoint_classifier\\keypoint_classifier.hdf5\n",
      "30/30 [==============================] - 0s 8ms/step - loss: 0.7036 - accuracy: 0.7373 - val_loss: 0.3251 - val_accuracy: 0.9320\n",
      "Epoch 70/1000\n",
      "16/30 [===============>..............] - ETA: 0s - loss: 0.6972 - accuracy: 0.7422\n",
      "Epoch 70: saving model to model/keypoint_classifier\\keypoint_classifier.hdf5\n",
      "30/30 [==============================] - 0s 9ms/step - loss: 0.7148 - accuracy: 0.7378 - val_loss: 0.3234 - val_accuracy: 0.9360\n",
      "Epoch 71/1000\n",
      "21/30 [====================>.........] - ETA: 0s - loss: 0.7045 - accuracy: 0.7388\n",
      "Epoch 71: saving model to model/keypoint_classifier\\keypoint_classifier.hdf5\n",
      "30/30 [==============================] - 0s 10ms/step - loss: 0.7094 - accuracy: 0.7312 - val_loss: 0.3270 - val_accuracy: 0.9336\n",
      "Epoch 72/1000\n",
      "30/30 [==============================] - ETA: 0s - loss: 0.6695 - accuracy: 0.7499\n",
      "Epoch 72: saving model to model/keypoint_classifier\\keypoint_classifier.hdf5\n",
      "30/30 [==============================] - 0s 7ms/step - loss: 0.6695 - accuracy: 0.7499 - val_loss: 0.3216 - val_accuracy: 0.9312\n",
      "Epoch 73/1000\n",
      "23/30 [======================>.......] - ETA: 0s - loss: 0.6983 - accuracy: 0.7432\n",
      "Epoch 73: saving model to model/keypoint_classifier\\keypoint_classifier.hdf5\n",
      "30/30 [==============================] - 0s 6ms/step - loss: 0.7003 - accuracy: 0.7418 - val_loss: 0.3217 - val_accuracy: 0.9375\n",
      "Epoch 74/1000\n",
      "22/30 [=====================>........] - ETA: 0s - loss: 0.6842 - accuracy: 0.7457\n",
      "Epoch 74: saving model to model/keypoint_classifier\\keypoint_classifier.hdf5\n",
      "30/30 [==============================] - 0s 6ms/step - loss: 0.6792 - accuracy: 0.7473 - val_loss: 0.3156 - val_accuracy: 0.9423\n",
      "Epoch 75/1000\n",
      "22/30 [=====================>........] - ETA: 0s - loss: 0.7082 - accuracy: 0.7372\n",
      "Epoch 75: saving model to model/keypoint_classifier\\keypoint_classifier.hdf5\n",
      "30/30 [==============================] - 0s 7ms/step - loss: 0.6881 - accuracy: 0.7436 - val_loss: 0.3205 - val_accuracy: 0.9352\n",
      "Epoch 76/1000\n",
      "20/30 [===================>..........] - ETA: 0s - loss: 0.6889 - accuracy: 0.7453\n",
      "Epoch 76: saving model to model/keypoint_classifier\\keypoint_classifier.hdf5\n",
      "30/30 [==============================] - 0s 10ms/step - loss: 0.6842 - accuracy: 0.7499 - val_loss: 0.3133 - val_accuracy: 0.9423\n",
      "Epoch 77/1000\n",
      "26/30 [=========================>....] - ETA: 0s - loss: 0.6809 - accuracy: 0.7497\n",
      "Epoch 77: saving model to model/keypoint_classifier\\keypoint_classifier.hdf5\n",
      "30/30 [==============================] - 0s 9ms/step - loss: 0.6849 - accuracy: 0.7428 - val_loss: 0.3128 - val_accuracy: 0.9383\n",
      "Epoch 78/1000\n",
      "17/30 [================>.............] - ETA: 0s - loss: 0.6717 - accuracy: 0.7574\n",
      "Epoch 78: saving model to model/keypoint_classifier\\keypoint_classifier.hdf5\n",
      "30/30 [==============================] - 0s 8ms/step - loss: 0.6725 - accuracy: 0.7526 - val_loss: 0.3054 - val_accuracy: 0.9399\n",
      "Epoch 79/1000\n",
      "24/30 [=======================>......] - ETA: 0s - loss: 0.6750 - accuracy: 0.7467\n",
      "Epoch 79: saving model to model/keypoint_classifier\\keypoint_classifier.hdf5\n",
      "30/30 [==============================] - 0s 10ms/step - loss: 0.6677 - accuracy: 0.7491 - val_loss: 0.3082 - val_accuracy: 0.9391\n",
      "Epoch 80/1000\n",
      "27/30 [==========================>...] - ETA: 0s - loss: 0.6591 - accuracy: 0.7541\n",
      "Epoch 80: saving model to model/keypoint_classifier\\keypoint_classifier.hdf5\n",
      "30/30 [==============================] - 0s 10ms/step - loss: 0.6647 - accuracy: 0.7513 - val_loss: 0.3026 - val_accuracy: 0.9391\n",
      "Epoch 81/1000\n",
      "19/30 [==================>...........] - ETA: 0s - loss: 0.6337 - accuracy: 0.7677\n",
      "Epoch 81: saving model to model/keypoint_classifier\\keypoint_classifier.hdf5\n",
      "30/30 [==============================] - 0s 8ms/step - loss: 0.6596 - accuracy: 0.7565 - val_loss: 0.3001 - val_accuracy: 0.9415\n",
      "Epoch 82/1000\n",
      "27/30 [==========================>...] - ETA: 0s - loss: 0.6656 - accuracy: 0.7491\n",
      "Epoch 82: saving model to model/keypoint_classifier\\keypoint_classifier.hdf5\n",
      "30/30 [==============================] - 0s 8ms/step - loss: 0.6671 - accuracy: 0.7478 - val_loss: 0.3016 - val_accuracy: 0.9391\n",
      "Epoch 83/1000\n",
      "21/30 [====================>.........] - ETA: 0s - loss: 0.6564 - accuracy: 0.7563\n",
      "Epoch 83: saving model to model/keypoint_classifier\\keypoint_classifier.hdf5\n",
      "30/30 [==============================] - 0s 12ms/step - loss: 0.6569 - accuracy: 0.7586 - val_loss: 0.2983 - val_accuracy: 0.9391\n",
      "Epoch 84/1000\n",
      "29/30 [============================>.] - ETA: 0s - loss: 0.6625 - accuracy: 0.7575\n",
      "Epoch 84: saving model to model/keypoint_classifier\\keypoint_classifier.hdf5\n",
      "30/30 [==============================] - 0s 12ms/step - loss: 0.6628 - accuracy: 0.7576 - val_loss: 0.3010 - val_accuracy: 0.9407\n",
      "Epoch 85/1000\n",
      "23/30 [======================>.......] - ETA: 0s - loss: 0.6780 - accuracy: 0.7503\n",
      "Epoch 85: saving model to model/keypoint_classifier\\keypoint_classifier.hdf5\n",
      "30/30 [==============================] - 0s 10ms/step - loss: 0.6664 - accuracy: 0.7560 - val_loss: 0.2957 - val_accuracy: 0.9431\n",
      "Epoch 86/1000\n",
      "18/30 [=================>............] - ETA: 0s - loss: 0.6543 - accuracy: 0.7552\n",
      "Epoch 86: saving model to model/keypoint_classifier\\keypoint_classifier.hdf5\n",
      "30/30 [==============================] - 0s 7ms/step - loss: 0.6544 - accuracy: 0.7526 - val_loss: 0.2958 - val_accuracy: 0.9423\n",
      "Epoch 87/1000\n",
      "29/30 [============================>.] - ETA: 0s - loss: 0.6431 - accuracy: 0.7600\n",
      "Epoch 87: saving model to model/keypoint_classifier\\keypoint_classifier.hdf5\n",
      "30/30 [==============================] - 0s 9ms/step - loss: 0.6456 - accuracy: 0.7594 - val_loss: 0.2937 - val_accuracy: 0.9407\n",
      "Epoch 88/1000\n",
      "25/30 [========================>.....] - ETA: 0s - loss: 0.6552 - accuracy: 0.7625\n",
      "Epoch 88: saving model to model/keypoint_classifier\\keypoint_classifier.hdf5\n",
      "30/30 [==============================] - 0s 10ms/step - loss: 0.6579 - accuracy: 0.7599 - val_loss: 0.2967 - val_accuracy: 0.9439\n",
      "Epoch 89/1000\n",
      "21/30 [====================>.........] - ETA: 0s - loss: 0.6379 - accuracy: 0.7679\n",
      "Epoch 89: saving model to model/keypoint_classifier\\keypoint_classifier.hdf5\n",
      "30/30 [==============================] - 0s 6ms/step - loss: 0.6551 - accuracy: 0.7621 - val_loss: 0.2933 - val_accuracy: 0.9470\n",
      "Epoch 90/1000\n",
      "21/30 [====================>.........] - ETA: 0s - loss: 0.6700 - accuracy: 0.7582\n",
      "Epoch 90: saving model to model/keypoint_classifier\\keypoint_classifier.hdf5\n",
      "30/30 [==============================] - 0s 6ms/step - loss: 0.6543 - accuracy: 0.7623 - val_loss: 0.2954 - val_accuracy: 0.9447\n",
      "Epoch 91/1000\n",
      "21/30 [====================>.........] - ETA: 0s - loss: 0.6697 - accuracy: 0.7537\n",
      "Epoch 91: saving model to model/keypoint_classifier\\keypoint_classifier.hdf5\n",
      "30/30 [==============================] - 0s 6ms/step - loss: 0.6564 - accuracy: 0.7607 - val_loss: 0.2965 - val_accuracy: 0.9423\n",
      "Epoch 92/1000\n",
      "24/30 [=======================>......] - ETA: 0s - loss: 0.6343 - accuracy: 0.7692\n",
      "Epoch 92: saving model to model/keypoint_classifier\\keypoint_classifier.hdf5\n",
      "30/30 [==============================] - 0s 7ms/step - loss: 0.6291 - accuracy: 0.7708 - val_loss: 0.2914 - val_accuracy: 0.9415\n",
      "Epoch 93/1000\n",
      "28/30 [===========================>..] - ETA: 0s - loss: 0.6366 - accuracy: 0.7701\n",
      "Epoch 93: saving model to model/keypoint_classifier\\keypoint_classifier.hdf5\n",
      "30/30 [==============================] - 0s 8ms/step - loss: 0.6338 - accuracy: 0.7700 - val_loss: 0.2834 - val_accuracy: 0.9423\n",
      "Epoch 94/1000\n",
      "18/30 [=================>............] - ETA: 0s - loss: 0.6628 - accuracy: 0.7561\n",
      "Epoch 94: saving model to model/keypoint_classifier\\keypoint_classifier.hdf5\n",
      "30/30 [==============================] - 0s 6ms/step - loss: 0.6583 - accuracy: 0.7563 - val_loss: 0.2871 - val_accuracy: 0.9344\n",
      "Epoch 95/1000\n",
      "19/30 [==================>...........] - ETA: 0s - loss: 0.6321 - accuracy: 0.7660\n",
      "Epoch 95: saving model to model/keypoint_classifier\\keypoint_classifier.hdf5\n",
      "30/30 [==============================] - 0s 7ms/step - loss: 0.6579 - accuracy: 0.7584 - val_loss: 0.2918 - val_accuracy: 0.9399\n",
      "Epoch 96/1000\n",
      "29/30 [============================>.] - ETA: 0s - loss: 0.6574 - accuracy: 0.7584\n",
      "Epoch 96: saving model to model/keypoint_classifier\\keypoint_classifier.hdf5\n",
      "30/30 [==============================] - 0s 10ms/step - loss: 0.6579 - accuracy: 0.7576 - val_loss: 0.2870 - val_accuracy: 0.9423\n",
      "Epoch 97/1000\n",
      "19/30 [==================>...........] - ETA: 0s - loss: 0.6396 - accuracy: 0.7590\n",
      "Epoch 97: saving model to model/keypoint_classifier\\keypoint_classifier.hdf5\n",
      "30/30 [==============================] - 0s 10ms/step - loss: 0.6386 - accuracy: 0.7592 - val_loss: 0.2850 - val_accuracy: 0.9407\n",
      "Epoch 98/1000\n",
      "22/30 [=====================>........] - ETA: 0s - loss: 0.6780 - accuracy: 0.7472\n",
      "Epoch 98: saving model to model/keypoint_classifier\\keypoint_classifier.hdf5\n",
      "30/30 [==============================] - 0s 6ms/step - loss: 0.6768 - accuracy: 0.7481 - val_loss: 0.2902 - val_accuracy: 0.9423\n",
      "Epoch 99/1000\n",
      "22/30 [=====================>........] - ETA: 0s - loss: 0.6440 - accuracy: 0.7532\n",
      "Epoch 99: saving model to model/keypoint_classifier\\keypoint_classifier.hdf5\n",
      "30/30 [==============================] - 0s 5ms/step - loss: 0.6423 - accuracy: 0.7539 - val_loss: 0.2839 - val_accuracy: 0.9439\n",
      "Epoch 100/1000\n",
      "21/30 [====================>.........] - ETA: 0s - loss: 0.6583 - accuracy: 0.7548\n",
      "Epoch 100: saving model to model/keypoint_classifier\\keypoint_classifier.hdf5\n",
      "30/30 [==============================] - 0s 6ms/step - loss: 0.6486 - accuracy: 0.7605 - val_loss: 0.2891 - val_accuracy: 0.9431\n",
      "Epoch 101/1000\n",
      "21/30 [====================>.........] - ETA: 0s - loss: 0.6431 - accuracy: 0.7612\n",
      "Epoch 101: saving model to model/keypoint_classifier\\keypoint_classifier.hdf5\n",
      "30/30 [==============================] - 0s 6ms/step - loss: 0.6252 - accuracy: 0.7697 - val_loss: 0.2824 - val_accuracy: 0.9423\n",
      "Epoch 102/1000\n",
      "22/30 [=====================>........] - ETA: 0s - loss: 0.6364 - accuracy: 0.7596\n",
      "Epoch 102: saving model to model/keypoint_classifier\\keypoint_classifier.hdf5\n",
      "30/30 [==============================] - 0s 6ms/step - loss: 0.6473 - accuracy: 0.7615 - val_loss: 0.2855 - val_accuracy: 0.9360\n",
      "Epoch 103/1000\n",
      "19/30 [==================>...........] - ETA: 0s - loss: 0.6471 - accuracy: 0.7525\n",
      "Epoch 103: saving model to model/keypoint_classifier\\keypoint_classifier.hdf5\n",
      "30/30 [==============================] - 0s 7ms/step - loss: 0.6416 - accuracy: 0.7581 - val_loss: 0.2801 - val_accuracy: 0.9407\n",
      "Epoch 104/1000\n",
      "18/30 [=================>............] - ETA: 0s - loss: 0.6168 - accuracy: 0.7665\n",
      "Epoch 104: saving model to model/keypoint_classifier\\keypoint_classifier.hdf5\n",
      "30/30 [==============================] - 0s 6ms/step - loss: 0.6232 - accuracy: 0.7650 - val_loss: 0.2765 - val_accuracy: 0.9439\n",
      "Epoch 105/1000\n",
      "23/30 [======================>.......] - ETA: 0s - loss: 0.6422 - accuracy: 0.7602\n",
      "Epoch 105: saving model to model/keypoint_classifier\\keypoint_classifier.hdf5\n",
      "30/30 [==============================] - 0s 6ms/step - loss: 0.6437 - accuracy: 0.7621 - val_loss: 0.2786 - val_accuracy: 0.9399\n",
      "Epoch 106/1000\n",
      "20/30 [===================>..........] - ETA: 0s - loss: 0.6249 - accuracy: 0.7730\n",
      "Epoch 106: saving model to model/keypoint_classifier\\keypoint_classifier.hdf5\n",
      "30/30 [==============================] - 0s 6ms/step - loss: 0.6088 - accuracy: 0.7771 - val_loss: 0.2709 - val_accuracy: 0.9439\n",
      "Epoch 107/1000\n",
      "18/30 [=================>............] - ETA: 0s - loss: 0.6545 - accuracy: 0.7569\n",
      "Epoch 107: saving model to model/keypoint_classifier\\keypoint_classifier.hdf5\n",
      "30/30 [==============================] - 0s 6ms/step - loss: 0.6543 - accuracy: 0.7613 - val_loss: 0.2760 - val_accuracy: 0.9439\n",
      "Epoch 108/1000\n",
      "21/30 [====================>.........] - ETA: 0s - loss: 0.6344 - accuracy: 0.7645\n",
      "Epoch 108: saving model to model/keypoint_classifier\\keypoint_classifier.hdf5\n",
      "30/30 [==============================] - 0s 6ms/step - loss: 0.6434 - accuracy: 0.7560 - val_loss: 0.2828 - val_accuracy: 0.9431\n",
      "Epoch 109/1000\n",
      "30/30 [==============================] - ETA: 0s - loss: 0.6351 - accuracy: 0.7684\n",
      "Epoch 109: saving model to model/keypoint_classifier\\keypoint_classifier.hdf5\n",
      "30/30 [==============================] - 0s 4ms/step - loss: 0.6351 - accuracy: 0.7684 - val_loss: 0.2837 - val_accuracy: 0.9415\n",
      "Epoch 110/1000\n",
      "29/30 [============================>.] - ETA: 0s - loss: 0.6359 - accuracy: 0.7645\n",
      "Epoch 110: saving model to model/keypoint_classifier\\keypoint_classifier.hdf5\n",
      "30/30 [==============================] - 0s 4ms/step - loss: 0.6325 - accuracy: 0.7660 - val_loss: 0.2793 - val_accuracy: 0.9462\n",
      "Epoch 111/1000\n",
      "19/30 [==================>...........] - ETA: 0s - loss: 0.6288 - accuracy: 0.7644\n",
      "Epoch 111: saving model to model/keypoint_classifier\\keypoint_classifier.hdf5\n",
      "30/30 [==============================] - 0s 5ms/step - loss: 0.6358 - accuracy: 0.7626 - val_loss: 0.2801 - val_accuracy: 0.9391\n",
      "Epoch 112/1000\n",
      "27/30 [==========================>...] - ETA: 0s - loss: 0.6367 - accuracy: 0.7604\n",
      "Epoch 112: saving model to model/keypoint_classifier\\keypoint_classifier.hdf5\n",
      "30/30 [==============================] - 0s 4ms/step - loss: 0.6387 - accuracy: 0.7597 - val_loss: 0.2794 - val_accuracy: 0.9439\n",
      "Epoch 113/1000\n",
      "18/30 [=================>............] - ETA: 0s - loss: 0.6094 - accuracy: 0.7700\n",
      "Epoch 113: saving model to model/keypoint_classifier\\keypoint_classifier.hdf5\n",
      "30/30 [==============================] - 0s 6ms/step - loss: 0.6125 - accuracy: 0.7721 - val_loss: 0.2719 - val_accuracy: 0.9352\n",
      "Epoch 114/1000\n",
      "19/30 [==================>...........] - ETA: 0s - loss: 0.6290 - accuracy: 0.7706\n",
      "Epoch 114: saving model to model/keypoint_classifier\\keypoint_classifier.hdf5\n",
      "30/30 [==============================] - 0s 5ms/step - loss: 0.6360 - accuracy: 0.7657 - val_loss: 0.2786 - val_accuracy: 0.9462\n",
      "Epoch 115/1000\n",
      "24/30 [=======================>......] - ETA: 0s - loss: 0.6235 - accuracy: 0.7715\n",
      "Epoch 115: saving model to model/keypoint_classifier\\keypoint_classifier.hdf5\n",
      "30/30 [==============================] - 0s 5ms/step - loss: 0.6229 - accuracy: 0.7713 - val_loss: 0.2768 - val_accuracy: 0.9415\n",
      "Epoch 116/1000\n",
      "23/30 [======================>.......] - ETA: 0s - loss: 0.6479 - accuracy: 0.7660\n",
      "Epoch 116: saving model to model/keypoint_classifier\\keypoint_classifier.hdf5\n",
      "30/30 [==============================] - 0s 4ms/step - loss: 0.6330 - accuracy: 0.7721 - val_loss: 0.2723 - val_accuracy: 0.9462\n",
      "Epoch 117/1000\n",
      "23/30 [======================>.......] - ETA: 0s - loss: 0.6273 - accuracy: 0.7694\n",
      "Epoch 117: saving model to model/keypoint_classifier\\keypoint_classifier.hdf5\n",
      "30/30 [==============================] - 0s 6ms/step - loss: 0.6302 - accuracy: 0.7676 - val_loss: 0.2741 - val_accuracy: 0.9439\n",
      "Epoch 118/1000\n",
      "26/30 [=========================>....] - ETA: 0s - loss: 0.6149 - accuracy: 0.7752\n",
      "Epoch 118: saving model to model/keypoint_classifier\\keypoint_classifier.hdf5\n",
      "30/30 [==============================] - 0s 4ms/step - loss: 0.6054 - accuracy: 0.7784 - val_loss: 0.2718 - val_accuracy: 0.9415\n",
      "Epoch 119/1000\n",
      "28/30 [===========================>..] - ETA: 0s - loss: 0.6489 - accuracy: 0.7575\n",
      "Epoch 119: saving model to model/keypoint_classifier\\keypoint_classifier.hdf5\n",
      "30/30 [==============================] - 0s 4ms/step - loss: 0.6549 - accuracy: 0.7557 - val_loss: 0.2769 - val_accuracy: 0.9423\n",
      "Epoch 120/1000\n",
      "29/30 [============================>.] - ETA: 0s - loss: 0.6168 - accuracy: 0.7751\n",
      "Epoch 120: saving model to model/keypoint_classifier\\keypoint_classifier.hdf5\n",
      "30/30 [==============================] - 0s 4ms/step - loss: 0.6199 - accuracy: 0.7752 - val_loss: 0.2774 - val_accuracy: 0.9407\n",
      "Epoch 121/1000\n",
      "29/30 [============================>.] - ETA: 0s - loss: 0.6301 - accuracy: 0.7624\n",
      "Epoch 121: saving model to model/keypoint_classifier\\keypoint_classifier.hdf5\n",
      "30/30 [==============================] - 0s 5ms/step - loss: 0.6286 - accuracy: 0.7628 - val_loss: 0.2728 - val_accuracy: 0.9470\n",
      "Epoch 122/1000\n",
      " 1/30 [>.............................] - ETA: 0s - loss: 0.6311 - accuracy: 0.7500\n",
      "Epoch 122: saving model to model/keypoint_classifier\\keypoint_classifier.hdf5\n",
      "30/30 [==============================] - 0s 4ms/step - loss: 0.6197 - accuracy: 0.7681 - val_loss: 0.2660 - val_accuracy: 0.9447\n",
      "Epoch 123/1000\n",
      "26/30 [=========================>....] - ETA: 0s - loss: 0.6292 - accuracy: 0.7686\n",
      "Epoch 123: saving model to model/keypoint_classifier\\keypoint_classifier.hdf5\n",
      "30/30 [==============================] - 0s 5ms/step - loss: 0.6321 - accuracy: 0.7681 - val_loss: 0.2714 - val_accuracy: 0.9423\n",
      "Epoch 124/1000\n",
      "22/30 [=====================>........] - ETA: 0s - loss: 0.6331 - accuracy: 0.7660\n",
      "Epoch 124: saving model to model/keypoint_classifier\\keypoint_classifier.hdf5\n",
      "30/30 [==============================] - 0s 5ms/step - loss: 0.6468 - accuracy: 0.7631 - val_loss: 0.2739 - val_accuracy: 0.9447\n",
      "Epoch 125/1000\n",
      "29/30 [============================>.] - ETA: 0s - loss: 0.6377 - accuracy: 0.7637\n",
      "Epoch 125: saving model to model/keypoint_classifier\\keypoint_classifier.hdf5\n",
      "30/30 [==============================] - 0s 5ms/step - loss: 0.6346 - accuracy: 0.7644 - val_loss: 0.2663 - val_accuracy: 0.9486\n",
      "Epoch 126/1000\n",
      "29/30 [============================>.] - ETA: 0s - loss: 0.6163 - accuracy: 0.7756\n",
      "Epoch 126: saving model to model/keypoint_classifier\\keypoint_classifier.hdf5\n",
      "30/30 [==============================] - 0s 4ms/step - loss: 0.6160 - accuracy: 0.7752 - val_loss: 0.2659 - val_accuracy: 0.9470\n",
      "Epoch 127/1000\n",
      "29/30 [============================>.] - ETA: 0s - loss: 0.6210 - accuracy: 0.7584\n",
      "Epoch 127: saving model to model/keypoint_classifier\\keypoint_classifier.hdf5\n",
      "30/30 [==============================] - 0s 4ms/step - loss: 0.6197 - accuracy: 0.7597 - val_loss: 0.2750 - val_accuracy: 0.9399\n",
      "Epoch 128/1000\n",
      "28/30 [===========================>..] - ETA: 0s - loss: 0.6311 - accuracy: 0.7662\n",
      "Epoch 128: saving model to model/keypoint_classifier\\keypoint_classifier.hdf5\n",
      "30/30 [==============================] - 0s 4ms/step - loss: 0.6367 - accuracy: 0.7634 - val_loss: 0.2667 - val_accuracy: 0.9470\n",
      "Epoch 129/1000\n",
      "28/30 [===========================>..] - ETA: 0s - loss: 0.6209 - accuracy: 0.7679\n",
      "Epoch 129: saving model to model/keypoint_classifier\\keypoint_classifier.hdf5\n",
      "30/30 [==============================] - 0s 5ms/step - loss: 0.6224 - accuracy: 0.7671 - val_loss: 0.2657 - val_accuracy: 0.9447\n",
      "Epoch 130/1000\n",
      "23/30 [======================>.......] - ETA: 0s - loss: 0.6367 - accuracy: 0.7561\n",
      "Epoch 130: saving model to model/keypoint_classifier\\keypoint_classifier.hdf5\n",
      "30/30 [==============================] - 0s 5ms/step - loss: 0.6271 - accuracy: 0.7634 - val_loss: 0.2705 - val_accuracy: 0.9455\n",
      "Epoch 131/1000\n",
      " 1/30 [>.............................] - ETA: 0s - loss: 0.6151 - accuracy: 0.7422\n",
      "Epoch 131: saving model to model/keypoint_classifier\\keypoint_classifier.hdf5\n",
      "30/30 [==============================] - 0s 4ms/step - loss: 0.6239 - accuracy: 0.7655 - val_loss: 0.2666 - val_accuracy: 0.9423\n",
      "Epoch 132/1000\n",
      "16/30 [===============>..............] - ETA: 0s - loss: 0.6245 - accuracy: 0.7744\n",
      "Epoch 132: saving model to model/keypoint_classifier\\keypoint_classifier.hdf5\n",
      "30/30 [==============================] - 0s 6ms/step - loss: 0.6264 - accuracy: 0.7689 - val_loss: 0.2674 - val_accuracy: 0.9462\n",
      "Epoch 133/1000\n",
      "30/30 [==============================] - ETA: 0s - loss: 0.6392 - accuracy: 0.7626\n",
      "Epoch 133: saving model to model/keypoint_classifier\\keypoint_classifier.hdf5\n",
      "30/30 [==============================] - 0s 4ms/step - loss: 0.6392 - accuracy: 0.7626 - val_loss: 0.2649 - val_accuracy: 0.9462\n",
      "Epoch 134/1000\n",
      "29/30 [============================>.] - ETA: 0s - loss: 0.6203 - accuracy: 0.7672\n",
      "Epoch 134: saving model to model/keypoint_classifier\\keypoint_classifier.hdf5\n",
      "30/30 [==============================] - 0s 4ms/step - loss: 0.6202 - accuracy: 0.7668 - val_loss: 0.2651 - val_accuracy: 0.9439\n",
      "Epoch 135/1000\n",
      "27/30 [==========================>...] - ETA: 0s - loss: 0.6383 - accuracy: 0.7650\n",
      "Epoch 135: saving model to model/keypoint_classifier\\keypoint_classifier.hdf5\n",
      "30/30 [==============================] - 0s 4ms/step - loss: 0.6388 - accuracy: 0.7652 - val_loss: 0.2694 - val_accuracy: 0.9462\n",
      "Epoch 136/1000\n",
      " 1/30 [>.............................] - ETA: 0s - loss: 0.7429 - accuracy: 0.7031\n",
      "Epoch 136: saving model to model/keypoint_classifier\\keypoint_classifier.hdf5\n",
      "30/30 [==============================] - 0s 4ms/step - loss: 0.6242 - accuracy: 0.7697 - val_loss: 0.2654 - val_accuracy: 0.9423\n",
      "Epoch 137/1000\n",
      "27/30 [==========================>...] - ETA: 0s - loss: 0.6080 - accuracy: 0.7758\n",
      "Epoch 137: saving model to model/keypoint_classifier\\keypoint_classifier.hdf5\n",
      "30/30 [==============================] - 0s 4ms/step - loss: 0.6107 - accuracy: 0.7752 - val_loss: 0.2645 - val_accuracy: 0.9439\n",
      "Epoch 138/1000\n",
      "21/30 [====================>.........] - ETA: 0s - loss: 0.6259 - accuracy: 0.7723\n",
      "Epoch 138: saving model to model/keypoint_classifier\\keypoint_classifier.hdf5\n",
      "30/30 [==============================] - 0s 5ms/step - loss: 0.6206 - accuracy: 0.7747 - val_loss: 0.2620 - val_accuracy: 0.9470\n",
      "Epoch 139/1000\n",
      "29/30 [============================>.] - ETA: 0s - loss: 0.6134 - accuracy: 0.7713\n",
      "Epoch 139: saving model to model/keypoint_classifier\\keypoint_classifier.hdf5\n",
      "30/30 [==============================] - 0s 5ms/step - loss: 0.6143 - accuracy: 0.7713 - val_loss: 0.2592 - val_accuracy: 0.9447\n",
      "Epoch 140/1000\n",
      "29/30 [============================>.] - ETA: 0s - loss: 0.6430 - accuracy: 0.7605\n",
      "Epoch 140: saving model to model/keypoint_classifier\\keypoint_classifier.hdf5\n",
      "30/30 [==============================] - 0s 4ms/step - loss: 0.6435 - accuracy: 0.7605 - val_loss: 0.2644 - val_accuracy: 0.9455\n",
      "Epoch 141/1000\n",
      "28/30 [===========================>..] - ETA: 0s - loss: 0.5938 - accuracy: 0.7757\n",
      "Epoch 141: saving model to model/keypoint_classifier\\keypoint_classifier.hdf5\n",
      "30/30 [==============================] - 0s 4ms/step - loss: 0.5993 - accuracy: 0.7739 - val_loss: 0.2596 - val_accuracy: 0.9470\n",
      "Epoch 142/1000\n",
      " 1/30 [>.............................] - ETA: 0s - loss: 0.6441 - accuracy: 0.7891\n",
      "Epoch 142: saving model to model/keypoint_classifier\\keypoint_classifier.hdf5\n",
      "30/30 [==============================] - 0s 4ms/step - loss: 0.5969 - accuracy: 0.7781 - val_loss: 0.2619 - val_accuracy: 0.9455\n",
      "Epoch 143/1000\n",
      "27/30 [==========================>...] - ETA: 0s - loss: 0.6107 - accuracy: 0.7772\n",
      "Epoch 143: saving model to model/keypoint_classifier\\keypoint_classifier.hdf5\n",
      "30/30 [==============================] - 0s 4ms/step - loss: 0.6121 - accuracy: 0.7758 - val_loss: 0.2641 - val_accuracy: 0.9399\n",
      "Epoch 144/1000\n",
      "27/30 [==========================>...] - ETA: 0s - loss: 0.6100 - accuracy: 0.7723\n",
      "Epoch 144: saving model to model/keypoint_classifier\\keypoint_classifier.hdf5\n",
      "30/30 [==============================] - 0s 4ms/step - loss: 0.6289 - accuracy: 0.7694 - val_loss: 0.2662 - val_accuracy: 0.9439\n",
      "Epoch 145/1000\n",
      "23/30 [======================>.......] - ETA: 0s - loss: 0.6253 - accuracy: 0.7694\n",
      "Epoch 145: saving model to model/keypoint_classifier\\keypoint_classifier.hdf5\n",
      "30/30 [==============================] - 0s 4ms/step - loss: 0.6267 - accuracy: 0.7681 - val_loss: 0.2663 - val_accuracy: 0.9486\n",
      "Epoch 146/1000\n",
      " 1/30 [>.............................] - ETA: 0s - loss: 0.5479 - accuracy: 0.8125\n",
      "Epoch 146: saving model to model/keypoint_classifier\\keypoint_classifier.hdf5\n",
      "30/30 [==============================] - 0s 4ms/step - loss: 0.6262 - accuracy: 0.7747 - val_loss: 0.2673 - val_accuracy: 0.9494\n",
      "Epoch 147/1000\n",
      " 1/30 [>.............................] - ETA: 0s - loss: 0.6118 - accuracy: 0.7734\n",
      "Epoch 147: saving model to model/keypoint_classifier\\keypoint_classifier.hdf5\n",
      "30/30 [==============================] - 0s 4ms/step - loss: 0.6221 - accuracy: 0.7715 - val_loss: 0.2647 - val_accuracy: 0.9486\n",
      "Epoch 148/1000\n",
      "21/30 [====================>.........] - ETA: 0s - loss: 0.6265 - accuracy: 0.7656\n",
      "Epoch 148: saving model to model/keypoint_classifier\\keypoint_classifier.hdf5\n",
      "30/30 [==============================] - 0s 5ms/step - loss: 0.6233 - accuracy: 0.7665 - val_loss: 0.2699 - val_accuracy: 0.9423\n",
      "Epoch 149/1000\n",
      "29/30 [============================>.] - ETA: 0s - loss: 0.6098 - accuracy: 0.7691\n",
      "Epoch 149: saving model to model/keypoint_classifier\\keypoint_classifier.hdf5\n",
      "30/30 [==============================] - 0s 4ms/step - loss: 0.6166 - accuracy: 0.7679 - val_loss: 0.2609 - val_accuracy: 0.9423\n",
      "Epoch 150/1000\n",
      "29/30 [============================>.] - ETA: 0s - loss: 0.5974 - accuracy: 0.7818\n",
      "Epoch 150: saving model to model/keypoint_classifier\\keypoint_classifier.hdf5\n",
      "30/30 [==============================] - 0s 4ms/step - loss: 0.6028 - accuracy: 0.7787 - val_loss: 0.2585 - val_accuracy: 0.9439\n",
      "Epoch 151/1000\n",
      "26/30 [=========================>....] - ETA: 0s - loss: 0.6188 - accuracy: 0.7704\n",
      "Epoch 151: saving model to model/keypoint_classifier\\keypoint_classifier.hdf5\n",
      "30/30 [==============================] - 0s 5ms/step - loss: 0.6177 - accuracy: 0.7715 - val_loss: 0.2590 - val_accuracy: 0.9423\n",
      "Epoch 152/1000\n",
      "22/30 [=====================>........] - ETA: 0s - loss: 0.6277 - accuracy: 0.7624\n",
      "Epoch 152: saving model to model/keypoint_classifier\\keypoint_classifier.hdf5\n",
      "30/30 [==============================] - 0s 5ms/step - loss: 0.6280 - accuracy: 0.7660 - val_loss: 0.2593 - val_accuracy: 0.9494\n",
      "Epoch 153/1000\n",
      "25/30 [========================>.....] - ETA: 0s - loss: 0.5940 - accuracy: 0.7812\n",
      "Epoch 153: saving model to model/keypoint_classifier\\keypoint_classifier.hdf5\n",
      "30/30 [==============================] - 0s 5ms/step - loss: 0.5974 - accuracy: 0.7781 - val_loss: 0.2671 - val_accuracy: 0.9407\n",
      "Epoch 154/1000\n",
      "27/30 [==========================>...] - ETA: 0s - loss: 0.6220 - accuracy: 0.7749\n",
      "Epoch 154: saving model to model/keypoint_classifier\\keypoint_classifier.hdf5\n",
      "30/30 [==============================] - 0s 5ms/step - loss: 0.6221 - accuracy: 0.7752 - val_loss: 0.2697 - val_accuracy: 0.9368\n",
      "Epoch 155/1000\n",
      "27/30 [==========================>...] - ETA: 0s - loss: 0.5927 - accuracy: 0.7784\n",
      "Epoch 155: saving model to model/keypoint_classifier\\keypoint_classifier.hdf5\n",
      "30/30 [==============================] - 0s 5ms/step - loss: 0.5919 - accuracy: 0.7826 - val_loss: 0.2617 - val_accuracy: 0.9455\n",
      "Epoch 156/1000\n",
      "23/30 [======================>.......] - ETA: 0s - loss: 0.6191 - accuracy: 0.7690\n",
      "Epoch 156: saving model to model/keypoint_classifier\\keypoint_classifier.hdf5\n",
      "30/30 [==============================] - 0s 5ms/step - loss: 0.6231 - accuracy: 0.7681 - val_loss: 0.2642 - val_accuracy: 0.9383\n",
      "Epoch 157/1000\n",
      "30/30 [==============================] - ETA: 0s - loss: 0.6217 - accuracy: 0.7679\n",
      "Epoch 157: saving model to model/keypoint_classifier\\keypoint_classifier.hdf5\n",
      "30/30 [==============================] - 0s 5ms/step - loss: 0.6217 - accuracy: 0.7679 - val_loss: 0.2637 - val_accuracy: 0.9407\n",
      "Epoch 158/1000\n",
      "29/30 [============================>.] - ETA: 0s - loss: 0.6035 - accuracy: 0.7751\n",
      "Epoch 158: saving model to model/keypoint_classifier\\keypoint_classifier.hdf5\n",
      "30/30 [==============================] - 0s 4ms/step - loss: 0.6033 - accuracy: 0.7747 - val_loss: 0.2647 - val_accuracy: 0.9462\n",
      "Epoch 159/1000\n",
      "29/30 [============================>.] - ETA: 0s - loss: 0.6167 - accuracy: 0.7734\n",
      "Epoch 159: saving model to model/keypoint_classifier\\keypoint_classifier.hdf5\n",
      "30/30 [==============================] - 0s 5ms/step - loss: 0.6185 - accuracy: 0.7723 - val_loss: 0.2642 - val_accuracy: 0.9478\n",
      "Epoch 160/1000\n",
      "30/30 [==============================] - ETA: 0s - loss: 0.5991 - accuracy: 0.7721\n",
      "Epoch 160: saving model to model/keypoint_classifier\\keypoint_classifier.hdf5\n",
      "30/30 [==============================] - 0s 4ms/step - loss: 0.5991 - accuracy: 0.7721 - val_loss: 0.2604 - val_accuracy: 0.9502\n",
      "Epoch 161/1000\n",
      "25/30 [========================>.....] - ETA: 0s - loss: 0.6126 - accuracy: 0.7738\n",
      "Epoch 161: saving model to model/keypoint_classifier\\keypoint_classifier.hdf5\n",
      "30/30 [==============================] - 0s 4ms/step - loss: 0.6035 - accuracy: 0.7773 - val_loss: 0.2577 - val_accuracy: 0.9470\n",
      "Epoch 162/1000\n",
      " 1/30 [>.............................] - ETA: 0s - loss: 0.5791 - accuracy: 0.7969\n",
      "Epoch 162: saving model to model/keypoint_classifier\\keypoint_classifier.hdf5\n",
      "30/30 [==============================] - 0s 4ms/step - loss: 0.6114 - accuracy: 0.7747 - val_loss: 0.2579 - val_accuracy: 0.9455\n",
      "Epoch 163/1000\n",
      "29/30 [============================>.] - ETA: 0s - loss: 0.6161 - accuracy: 0.7667\n",
      "Epoch 163: saving model to model/keypoint_classifier\\keypoint_classifier.hdf5\n",
      "30/30 [==============================] - 0s 5ms/step - loss: 0.6134 - accuracy: 0.7689 - val_loss: 0.2621 - val_accuracy: 0.9447\n",
      "Epoch 164/1000\n",
      "19/30 [==================>...........] - ETA: 0s - loss: 0.5900 - accuracy: 0.7734\n",
      "Epoch 164: saving model to model/keypoint_classifier\\keypoint_classifier.hdf5\n",
      "30/30 [==============================] - 0s 5ms/step - loss: 0.5997 - accuracy: 0.7710 - val_loss: 0.2630 - val_accuracy: 0.9470\n",
      "Epoch 165/1000\n",
      " 1/30 [>.............................] - ETA: 0s - loss: 0.6126 - accuracy: 0.8203\n",
      "Epoch 165: saving model to model/keypoint_classifier\\keypoint_classifier.hdf5\n",
      "30/30 [==============================] - 0s 4ms/step - loss: 0.6218 - accuracy: 0.7660 - val_loss: 0.2617 - val_accuracy: 0.9486\n",
      "Epoch 166/1000\n",
      "29/30 [============================>.] - ETA: 0s - loss: 0.6108 - accuracy: 0.7775\n",
      "Epoch 166: saving model to model/keypoint_classifier\\keypoint_classifier.hdf5\n",
      "30/30 [==============================] - 0s 4ms/step - loss: 0.6122 - accuracy: 0.7768 - val_loss: 0.2597 - val_accuracy: 0.9486\n",
      "Epoch 167/1000\n",
      "30/30 [==============================] - ETA: 0s - loss: 0.5837 - accuracy: 0.7800\n",
      "Epoch 167: saving model to model/keypoint_classifier\\keypoint_classifier.hdf5\n",
      "30/30 [==============================] - 0s 4ms/step - loss: 0.5837 - accuracy: 0.7800 - val_loss: 0.2547 - val_accuracy: 0.9439\n",
      "Epoch 168/1000\n",
      "29/30 [============================>.] - ETA: 0s - loss: 0.6176 - accuracy: 0.7640\n",
      "Epoch 168: saving model to model/keypoint_classifier\\keypoint_classifier.hdf5\n",
      "30/30 [==============================] - 0s 4ms/step - loss: 0.6171 - accuracy: 0.7650 - val_loss: 0.2599 - val_accuracy: 0.9478\n",
      "Epoch 169/1000\n",
      " 1/30 [>.............................] - ETA: 0s - loss: 0.6212 - accuracy: 0.7500\n",
      "Epoch 169: saving model to model/keypoint_classifier\\keypoint_classifier.hdf5\n",
      "30/30 [==============================] - 0s 4ms/step - loss: 0.6197 - accuracy: 0.7755 - val_loss: 0.2610 - val_accuracy: 0.9447\n",
      "Epoch 170/1000\n",
      "20/30 [===================>..........] - ETA: 0s - loss: 0.6126 - accuracy: 0.7723\n",
      "Epoch 170: saving model to model/keypoint_classifier\\keypoint_classifier.hdf5\n",
      "30/30 [==============================] - 0s 5ms/step - loss: 0.6136 - accuracy: 0.7673 - val_loss: 0.2583 - val_accuracy: 0.9502\n",
      "Epoch 171/1000\n",
      "24/30 [=======================>......] - ETA: 0s - loss: 0.5705 - accuracy: 0.7874\n",
      "Epoch 171: saving model to model/keypoint_classifier\\keypoint_classifier.hdf5\n",
      "30/30 [==============================] - 0s 4ms/step - loss: 0.5800 - accuracy: 0.7839 - val_loss: 0.2504 - val_accuracy: 0.9470\n",
      "Epoch 172/1000\n",
      "26/30 [=========================>....] - ETA: 0s - loss: 0.5993 - accuracy: 0.7746\n",
      "Epoch 172: saving model to model/keypoint_classifier\\keypoint_classifier.hdf5\n",
      "30/30 [==============================] - 0s 5ms/step - loss: 0.6046 - accuracy: 0.7723 - val_loss: 0.2549 - val_accuracy: 0.9478\n",
      "Epoch 173/1000\n",
      "18/30 [=================>............] - ETA: 0s - loss: 0.6045 - accuracy: 0.7812\n",
      "Epoch 173: saving model to model/keypoint_classifier\\keypoint_classifier.hdf5\n",
      "30/30 [==============================] - 0s 6ms/step - loss: 0.5969 - accuracy: 0.7794 - val_loss: 0.2541 - val_accuracy: 0.9439\n",
      "Epoch 174/1000\n",
      "27/30 [==========================>...] - ETA: 0s - loss: 0.6101 - accuracy: 0.7682\n",
      "Epoch 174: saving model to model/keypoint_classifier\\keypoint_classifier.hdf5\n",
      "30/30 [==============================] - 0s 4ms/step - loss: 0.6132 - accuracy: 0.7657 - val_loss: 0.2532 - val_accuracy: 0.9478\n",
      "Epoch 175/1000\n",
      "26/30 [=========================>....] - ETA: 0s - loss: 0.5750 - accuracy: 0.7909\n",
      "Epoch 175: saving model to model/keypoint_classifier\\keypoint_classifier.hdf5\n",
      "30/30 [==============================] - 0s 4ms/step - loss: 0.5796 - accuracy: 0.7881 - val_loss: 0.2538 - val_accuracy: 0.9447\n",
      "Epoch 176/1000\n",
      "27/30 [==========================>...] - ETA: 0s - loss: 0.5977 - accuracy: 0.7795\n",
      "Epoch 176: saving model to model/keypoint_classifier\\keypoint_classifier.hdf5\n",
      "30/30 [==============================] - 0s 5ms/step - loss: 0.6050 - accuracy: 0.7755 - val_loss: 0.2539 - val_accuracy: 0.9415\n",
      "Epoch 177/1000\n",
      " 1/30 [>.............................] - ETA: 0s - loss: 0.5205 - accuracy: 0.8359\n",
      "Epoch 177: saving model to model/keypoint_classifier\\keypoint_classifier.hdf5\n",
      "30/30 [==============================] - 0s 4ms/step - loss: 0.5916 - accuracy: 0.7789 - val_loss: 0.2528 - val_accuracy: 0.9439\n",
      "Epoch 178/1000\n",
      "24/30 [=======================>......] - ETA: 0s - loss: 0.6092 - accuracy: 0.7669\n",
      "Epoch 178: saving model to model/keypoint_classifier\\keypoint_classifier.hdf5\n",
      "30/30 [==============================] - 0s 6ms/step - loss: 0.6038 - accuracy: 0.7689 - val_loss: 0.2546 - val_accuracy: 0.9613\n",
      "Epoch 179/1000\n",
      "27/30 [==========================>...] - ETA: 0s - loss: 0.6181 - accuracy: 0.7697\n",
      "Epoch 179: saving model to model/keypoint_classifier\\keypoint_classifier.hdf5\n",
      "30/30 [==============================] - 0s 6ms/step - loss: 0.6121 - accuracy: 0.7721 - val_loss: 0.2577 - val_accuracy: 0.9597\n",
      "Epoch 180/1000\n",
      "22/30 [=====================>........] - ETA: 0s - loss: 0.5977 - accuracy: 0.7823\n",
      "Epoch 180: saving model to model/keypoint_classifier\\keypoint_classifier.hdf5\n",
      "30/30 [==============================] - 0s 5ms/step - loss: 0.5927 - accuracy: 0.7860 - val_loss: 0.2531 - val_accuracy: 0.9549\n",
      "Epoch 181/1000\n",
      "18/30 [=================>............] - ETA: 0s - loss: 0.6010 - accuracy: 0.7821\n",
      "Epoch 181: saving model to model/keypoint_classifier\\keypoint_classifier.hdf5\n",
      "30/30 [==============================] - 0s 5ms/step - loss: 0.6008 - accuracy: 0.7784 - val_loss: 0.2538 - val_accuracy: 0.9439\n",
      "Epoch 182/1000\n",
      "24/30 [=======================>......] - ETA: 0s - loss: 0.5892 - accuracy: 0.7822\n",
      "Epoch 182: saving model to model/keypoint_classifier\\keypoint_classifier.hdf5\n",
      "30/30 [==============================] - 0s 5ms/step - loss: 0.5999 - accuracy: 0.7758 - val_loss: 0.2608 - val_accuracy: 0.9415\n",
      "Epoch 183/1000\n",
      "29/30 [============================>.] - ETA: 0s - loss: 0.6100 - accuracy: 0.7767\n",
      "Epoch 183: saving model to model/keypoint_classifier\\keypoint_classifier.hdf5\n",
      "30/30 [==============================] - 0s 5ms/step - loss: 0.6105 - accuracy: 0.7771 - val_loss: 0.2519 - val_accuracy: 0.9510\n",
      "Epoch 184/1000\n",
      "14/30 [=============>................] - ETA: 0s - loss: 0.5992 - accuracy: 0.7723\n",
      "Epoch 184: saving model to model/keypoint_classifier\\keypoint_classifier.hdf5\n",
      "30/30 [==============================] - 0s 6ms/step - loss: 0.5891 - accuracy: 0.7784 - val_loss: 0.2567 - val_accuracy: 0.9494\n",
      "Epoch 185/1000\n",
      "26/30 [=========================>....] - ETA: 0s - loss: 0.5951 - accuracy: 0.7803\n",
      "Epoch 185: saving model to model/keypoint_classifier\\keypoint_classifier.hdf5\n",
      "30/30 [==============================] - 0s 5ms/step - loss: 0.5952 - accuracy: 0.7789 - val_loss: 0.2530 - val_accuracy: 0.9478\n",
      "Epoch 186/1000\n",
      "29/30 [============================>.] - ETA: 0s - loss: 0.5724 - accuracy: 0.7872\n",
      "Epoch 186: saving model to model/keypoint_classifier\\keypoint_classifier.hdf5\n",
      "30/30 [==============================] - 0s 6ms/step - loss: 0.5730 - accuracy: 0.7863 - val_loss: 0.2549 - val_accuracy: 0.9399\n",
      "Epoch 187/1000\n",
      "28/30 [===========================>..] - ETA: 0s - loss: 0.6046 - accuracy: 0.7709\n",
      "Epoch 187: saving model to model/keypoint_classifier\\keypoint_classifier.hdf5\n",
      "30/30 [==============================] - 0s 5ms/step - loss: 0.6043 - accuracy: 0.7710 - val_loss: 0.2536 - val_accuracy: 0.9494\n",
      "Epoch 188/1000\n",
      "21/30 [====================>.........] - ETA: 0s - loss: 0.5667 - accuracy: 0.7932\n",
      "Epoch 188: saving model to model/keypoint_classifier\\keypoint_classifier.hdf5\n",
      "30/30 [==============================] - 0s 6ms/step - loss: 0.5736 - accuracy: 0.7874 - val_loss: 0.2485 - val_accuracy: 0.9462\n",
      "Epoch 189/1000\n",
      "17/30 [================>.............] - ETA: 0s - loss: 0.6035 - accuracy: 0.7877\n",
      "Epoch 189: saving model to model/keypoint_classifier\\keypoint_classifier.hdf5\n",
      "30/30 [==============================] - 0s 6ms/step - loss: 0.5930 - accuracy: 0.7847 - val_loss: 0.2474 - val_accuracy: 0.9526\n",
      "Epoch 190/1000\n",
      "27/30 [==========================>...] - ETA: 0s - loss: 0.6122 - accuracy: 0.7656\n",
      "Epoch 190: saving model to model/keypoint_classifier\\keypoint_classifier.hdf5\n",
      "30/30 [==============================] - 0s 6ms/step - loss: 0.6087 - accuracy: 0.7679 - val_loss: 0.2479 - val_accuracy: 0.9455\n",
      "Epoch 191/1000\n",
      "22/30 [=====================>........] - ETA: 0s - loss: 0.6127 - accuracy: 0.7670\n",
      "Epoch 191: saving model to model/keypoint_classifier\\keypoint_classifier.hdf5\n",
      "30/30 [==============================] - 0s 5ms/step - loss: 0.6123 - accuracy: 0.7686 - val_loss: 0.2569 - val_accuracy: 0.9423\n",
      "Epoch 192/1000\n",
      "30/30 [==============================] - ETA: 0s - loss: 0.5890 - accuracy: 0.7802\n",
      "Epoch 192: saving model to model/keypoint_classifier\\keypoint_classifier.hdf5\n",
      "30/30 [==============================] - 0s 5ms/step - loss: 0.5890 - accuracy: 0.7802 - val_loss: 0.2454 - val_accuracy: 0.9486\n",
      "Epoch 193/1000\n",
      " 1/30 [>.............................] - ETA: 0s - loss: 0.6661 - accuracy: 0.7656\n",
      "Epoch 193: saving model to model/keypoint_classifier\\keypoint_classifier.hdf5\n",
      "30/30 [==============================] - 0s 4ms/step - loss: 0.6004 - accuracy: 0.7826 - val_loss: 0.2435 - val_accuracy: 0.9462\n",
      "Epoch 194/1000\n",
      "21/30 [====================>.........] - ETA: 0s - loss: 0.6059 - accuracy: 0.7746\n",
      "Epoch 194: saving model to model/keypoint_classifier\\keypoint_classifier.hdf5\n",
      "30/30 [==============================] - 0s 5ms/step - loss: 0.6055 - accuracy: 0.7758 - val_loss: 0.2498 - val_accuracy: 0.9462\n",
      "Epoch 195/1000\n",
      "22/30 [=====================>........] - ETA: 0s - loss: 0.5750 - accuracy: 0.7834\n",
      "Epoch 195: saving model to model/keypoint_classifier\\keypoint_classifier.hdf5\n",
      "30/30 [==============================] - 0s 5ms/step - loss: 0.5676 - accuracy: 0.7839 - val_loss: 0.2465 - val_accuracy: 0.9455\n",
      "Epoch 196/1000\n",
      "19/30 [==================>...........] - ETA: 0s - loss: 0.5801 - accuracy: 0.7788\n",
      "Epoch 196: saving model to model/keypoint_classifier\\keypoint_classifier.hdf5\n",
      "30/30 [==============================] - 0s 5ms/step - loss: 0.5825 - accuracy: 0.7784 - val_loss: 0.2534 - val_accuracy: 0.9462\n",
      "Epoch 197/1000\n",
      "22/30 [=====================>........] - ETA: 0s - loss: 0.5777 - accuracy: 0.7876\n",
      "Epoch 197: saving model to model/keypoint_classifier\\keypoint_classifier.hdf5\n",
      "30/30 [==============================] - 0s 5ms/step - loss: 0.5924 - accuracy: 0.7842 - val_loss: 0.2522 - val_accuracy: 0.9510\n",
      "Epoch 198/1000\n",
      "27/30 [==========================>...] - ETA: 0s - loss: 0.5989 - accuracy: 0.7758\n",
      "Epoch 198: saving model to model/keypoint_classifier\\keypoint_classifier.hdf5\n",
      "30/30 [==============================] - 0s 4ms/step - loss: 0.6024 - accuracy: 0.7763 - val_loss: 0.2604 - val_accuracy: 0.9360\n",
      "Epoch 199/1000\n",
      " 1/30 [>.............................] - ETA: 0s - loss: 0.6463 - accuracy: 0.7656\n",
      "Epoch 199: saving model to model/keypoint_classifier\\keypoint_classifier.hdf5\n",
      "30/30 [==============================] - 0s 4ms/step - loss: 0.6003 - accuracy: 0.7739 - val_loss: 0.2546 - val_accuracy: 0.9407\n",
      "Epoch 200/1000\n",
      " 1/30 [>.............................] - ETA: 0s - loss: 0.5844 - accuracy: 0.7891\n",
      "Epoch 200: saving model to model/keypoint_classifier\\keypoint_classifier.hdf5\n",
      "30/30 [==============================] - 0s 4ms/step - loss: 0.6097 - accuracy: 0.7731 - val_loss: 0.2494 - val_accuracy: 0.9494\n",
      "Epoch 201/1000\n",
      "18/30 [=================>............] - ETA: 0s - loss: 0.5967 - accuracy: 0.7773\n",
      "Epoch 201: saving model to model/keypoint_classifier\\keypoint_classifier.hdf5\n",
      "30/30 [==============================] - 0s 6ms/step - loss: 0.5838 - accuracy: 0.7823 - val_loss: 0.2455 - val_accuracy: 0.9486\n",
      "Epoch 202/1000\n",
      " 1/30 [>.............................] - ETA: 0s - loss: 0.5629 - accuracy: 0.7969\n",
      "Epoch 202: saving model to model/keypoint_classifier\\keypoint_classifier.hdf5\n",
      "30/30 [==============================] - 0s 3ms/step - loss: 0.5973 - accuracy: 0.7700 - val_loss: 0.2496 - val_accuracy: 0.9470\n",
      "Epoch 203/1000\n",
      " 1/30 [>.............................] - ETA: 0s - loss: 0.5867 - accuracy: 0.8047\n",
      "Epoch 203: saving model to model/keypoint_classifier\\keypoint_classifier.hdf5\n",
      "30/30 [==============================] - 0s 4ms/step - loss: 0.5949 - accuracy: 0.7845 - val_loss: 0.2498 - val_accuracy: 0.9494\n",
      "Epoch 204/1000\n",
      " 1/30 [>.............................] - ETA: 0s - loss: 0.5907 - accuracy: 0.7812\n",
      "Epoch 204: saving model to model/keypoint_classifier\\keypoint_classifier.hdf5\n",
      "30/30 [==============================] - 0s 4ms/step - loss: 0.5751 - accuracy: 0.7889 - val_loss: 0.2491 - val_accuracy: 0.9462\n",
      "Epoch 205/1000\n",
      " 1/30 [>.............................] - ETA: 0s - loss: 0.6414 - accuracy: 0.7656\n",
      "Epoch 205: saving model to model/keypoint_classifier\\keypoint_classifier.hdf5\n",
      "30/30 [==============================] - 0s 3ms/step - loss: 0.6275 - accuracy: 0.7686 - val_loss: 0.2532 - val_accuracy: 0.9494\n",
      "Epoch 206/1000\n",
      "29/30 [============================>.] - ETA: 0s - loss: 0.5774 - accuracy: 0.7850\n",
      "Epoch 206: saving model to model/keypoint_classifier\\keypoint_classifier.hdf5\n",
      "30/30 [==============================] - 0s 4ms/step - loss: 0.5786 - accuracy: 0.7845 - val_loss: 0.2482 - val_accuracy: 0.9470\n",
      "Epoch 207/1000\n",
      "29/30 [============================>.] - ETA: 0s - loss: 0.5947 - accuracy: 0.7802\n",
      "Epoch 207: saving model to model/keypoint_classifier\\keypoint_classifier.hdf5\n",
      "30/30 [==============================] - 0s 4ms/step - loss: 0.5959 - accuracy: 0.7805 - val_loss: 0.2507 - val_accuracy: 0.9462\n",
      "Epoch 208/1000\n",
      " 1/30 [>.............................] - ETA: 0s - loss: 0.6068 - accuracy: 0.7656\n",
      "Epoch 208: saving model to model/keypoint_classifier\\keypoint_classifier.hdf5\n",
      "30/30 [==============================] - 0s 4ms/step - loss: 0.5866 - accuracy: 0.7845 - val_loss: 0.2461 - val_accuracy: 0.9597\n",
      "Epoch 209/1000\n",
      "28/30 [===========================>..] - ETA: 0s - loss: 0.5973 - accuracy: 0.7737\n",
      "Epoch 209: saving model to model/keypoint_classifier\\keypoint_classifier.hdf5\n",
      "30/30 [==============================] - 0s 5ms/step - loss: 0.5950 - accuracy: 0.7734 - val_loss: 0.2469 - val_accuracy: 0.9478\n",
      "Epoch 210/1000\n",
      "30/30 [==============================] - ETA: 0s - loss: 0.5892 - accuracy: 0.7837\n",
      "Epoch 210: saving model to model/keypoint_classifier\\keypoint_classifier.hdf5\n",
      "30/30 [==============================] - 0s 4ms/step - loss: 0.5892 - accuracy: 0.7837 - val_loss: 0.2465 - val_accuracy: 0.9478\n",
      "Epoch 211/1000\n",
      " 1/30 [>.............................] - ETA: 0s - loss: 0.5613 - accuracy: 0.8125\n",
      "Epoch 211: saving model to model/keypoint_classifier\\keypoint_classifier.hdf5\n",
      "30/30 [==============================] - 0s 4ms/step - loss: 0.6009 - accuracy: 0.7747 - val_loss: 0.2511 - val_accuracy: 0.9462\n",
      "Epoch 212/1000\n",
      " 1/30 [>.............................] - ETA: 0s - loss: 0.5306 - accuracy: 0.8047\n",
      "Epoch 212: saving model to model/keypoint_classifier\\keypoint_classifier.hdf5\n",
      "30/30 [==============================] - 0s 4ms/step - loss: 0.5957 - accuracy: 0.7758 - val_loss: 0.2511 - val_accuracy: 0.9660\n",
      "Epoch 213/1000\n",
      " 1/30 [>.............................] - ETA: 0s - loss: 0.5507 - accuracy: 0.8047\n",
      "Epoch 213: saving model to model/keypoint_classifier\\keypoint_classifier.hdf5\n",
      "30/30 [==============================] - 0s 3ms/step - loss: 0.5690 - accuracy: 0.7808 - val_loss: 0.2500 - val_accuracy: 0.9621\n",
      "Epoch 213: early stopping\n"
     ]
    },
    {
     "data": {
      "text/plain": [
       "<keras.callbacks.History at 0x20954e32e50>"
      ]
     },
     "execution_count": 24,
     "metadata": {},
     "output_type": "execute_result"
    }
   ],
   "execution_count": 24
  },
  {
   "cell_type": "code",
   "metadata": {
    "ExecuteTime": {
     "end_time": "2025-06-30T03:46:01.497372Z",
     "start_time": "2025-06-30T03:46:01.106946Z"
    }
   },
   "source": [
    "# モデル評価\n",
    "val_loss, val_acc = model.evaluate(X_test, y_test, batch_size=128)"
   ],
   "outputs": [
    {
     "name": "stdout",
     "output_type": "stream",
     "text": [
      "10/10 [==============================] - 0s 3ms/step - loss: 0.2500 - accuracy: 0.9621\n"
     ]
    }
   ],
   "execution_count": 25
  },
  {
   "cell_type": "code",
   "metadata": {
    "ExecuteTime": {
     "end_time": "2025-06-30T03:46:01.838659Z",
     "start_time": "2025-06-30T03:46:01.671247Z"
    }
   },
   "source": [
    "# 保存したモデルのロード\n",
    "model = tf.keras.models.load_model(model_save_path)"
   ],
   "outputs": [],
   "execution_count": 26
  },
  {
   "cell_type": "code",
   "metadata": {
    "ExecuteTime": {
     "end_time": "2025-06-30T03:46:03.804389Z",
     "start_time": "2025-06-30T03:46:03.401999Z"
    }
   },
   "source": [
    "# 推論テスト\n",
    "predict_result = model.predict(np.array([X_test[0]]))\n",
    "print(np.squeeze(predict_result))\n",
    "print(np.argmax(np.squeeze(predict_result)))"
   ],
   "outputs": [
    {
     "name": "stdout",
     "output_type": "stream",
     "text": [
      "1/1 [==============================] - 0s 305ms/step\n",
      "[2.7156625e-02 2.7006576e-02 9.3552101e-01 1.2297483e-04 9.0556145e-03\n",
      " 2.5133224e-04 8.8427833e-04 1.6972839e-06]\n",
      "2\n"
     ]
    }
   ],
   "execution_count": 27
  },
  {
   "cell_type": "markdown",
   "metadata": {},
   "source": [
    "# 混同行列"
   ]
  },
  {
   "cell_type": "code",
   "metadata": {
    "ExecuteTime": {
     "end_time": "2025-06-30T03:01:46.398527Z",
     "start_time": "2025-06-30T03:01:43.686384Z"
    }
   },
   "source": [
    "import pandas as pd\n",
    "import seaborn as sns\n",
    "import matplotlib.pyplot as plt\n",
    "from sklearn.metrics import confusion_matrix, classification_report\n",
    "\n",
    "def print_confusion_matrix(y_true, y_pred, report=True):\n",
    "    labels = sorted(list(set(y_true)))\n",
    "    cmx_data = confusion_matrix(y_true, y_pred, labels=labels)\n",
    "    \n",
    "    df_cmx = pd.DataFrame(cmx_data, index=labels, columns=labels)\n",
    " \n",
    "    fig, ax = plt.subplots(figsize=(7, 6))\n",
    "    sns.heatmap(df_cmx, annot=True, fmt='g' ,square=False)\n",
    "    ax.set_ylim(len(set(y_true)), 0)\n",
    "    plt.show()\n",
    "    \n",
    "    if report:\n",
    "        print('Classification Report')\n",
    "        print(classification_report(y_test, y_pred))\n",
    "\n",
    "Y_pred = model.predict(X_test)\n",
    "y_pred = np.argmax(Y_pred, axis=1)\n",
    "\n",
    "print_confusion_matrix(y_test, y_pred)"
   ],
   "outputs": [
    {
     "name": "stdout",
     "output_type": "stream",
     "text": [
      "39/39 [==============================] - 0s 2ms/step\n"
     ]
    },
    {
     "data": {
      "text/plain": [
       "<Figure size 700x600 with 2 Axes>"
      ],
      "image/png": "[encoded data removed]"
     },
     "metadata": {},
     "output_type": "display_data"
    },
    {
     "name": "stdout",
     "output_type": "stream",
     "text": [
      "Classification Report\n",
      "              precision    recall  f1-score   support\n",
      "\n",
      "           0       0.96      0.98      0.97       400\n",
      "           1       0.99      0.95      0.97       382\n",
      "           2       0.91      0.98      0.94       329\n",
      "           3       0.95      0.95      0.95        80\n",
      "           4       1.00      0.49      0.65        37\n",
      "\n",
      "    accuracy                           0.95      1228\n",
      "   macro avg       0.96      0.87      0.90      1228\n",
      "weighted avg       0.96      0.95      0.95      1228\n",
      "\n"
     ]
    }
   ],
   "execution_count": 34
  },
  {
   "cell_type": "markdown",
   "metadata": {},
   "source": [
    "# Tensorflow-Lite用のモデルへ変換"
   ]
  },
  {
   "cell_type": "code",
   "metadata": {
    "ExecuteTime": {
     "end_time": "2025-06-30T03:01:48.125670Z",
     "start_time": "2025-06-30T03:01:48.083696Z"
    }
   },
   "source": [
    "# 推論専用のモデルとして保存\n",
    "model.save(model_save_path, include_optimizer=False)"
   ],
   "outputs": [],
   "execution_count": 35
  },
  {
   "cell_type": "code",
   "metadata": {
    "ExecuteTime": {
     "end_time": "2025-06-30T03:01:52.454384Z",
     "start_time": "2025-06-30T03:01:48.725140Z"
    }
   },
   "source": [
    "# モデルを変換(量子化)\n",
    "tflite_save_path = 'model/keypoint_classifier/keypoint_classifier.tflite'\n",
    "\n",
    "converter = tf.lite.TFLiteConverter.from_keras_model(model)\n",
    "converter.optimizations = [tf.lite.Optimize.DEFAULT]\n",
    "tflite_quantized_model = converter.convert()\n",
    "\n",
    "open(tflite_save_path, 'wb').write(tflite_quantized_model)"
   ],
   "outputs": [
    {
     "name": "stderr",
     "output_type": "stream",
     "text": [
      "WARNING:absl:Found untraced functions such as _update_step_xla while saving (showing 1 of 1). These functions will not be directly callable after loading.\n"
     ]
    },
    {
     "name": "stdout",
     "output_type": "stream",
     "text": [
      "INFO:tensorflow:Assets written to: C:\\Users\\Tanusha\\AppData\\Local\\Temp\\tmp43r32u2w\\assets\n"
     ]
    },
    {
     "name": "stderr",
     "output_type": "stream",
     "text": [
      "INFO:tensorflow:Assets written to: C:\\Users\\Tanusha\\AppData\\Local\\Temp\\tmp43r32u2w\\assets\n"
     ]
    },
    {
     "data": {
      "text/plain": [
       "6660"
      ]
     },
     "execution_count": 36,
     "metadata": {},
     "output_type": "execute_result"
    }
   ],
   "execution_count": 36
  },
  {
   "cell_type": "markdown",
   "metadata": {},
   "source": [
    "# 推論テスト"
   ]
  },
  {
   "cell_type": "code",
   "metadata": {
    "ExecuteTime": {
     "end_time": "2025-06-30T03:01:52.532300Z",
     "start_time": "2025-06-30T03:01:52.490950Z"
    }
   },
   "source": [
    "interpreter = tf.lite.Interpreter(model_path=tflite_save_path)\n",
    "interpreter.allocate_tensors()"
   ],
   "outputs": [],
   "execution_count": 37
  },
  {
   "cell_type": "code",
   "metadata": {
    "ExecuteTime": {
     "end_time": "2025-06-30T03:01:52.580342Z",
     "start_time": "2025-06-30T03:01:52.566837Z"
    }
   },
   "source": [
    "# 入出力テンソルを取得\n",
    "input_details = interpreter.get_input_details()\n",
    "output_details = interpreter.get_output_details()"
   ],
   "outputs": [],
   "execution_count": 38
  },
  {
   "cell_type": "code",
   "metadata": {
    "ExecuteTime": {
     "end_time": "2025-06-30T03:01:52.720040Z",
     "start_time": "2025-06-30T03:01:52.707040Z"
    }
   },
   "source": [
    "interpreter.set_tensor(input_details[0]['index'], np.array([X_test[0]]))"
   ],
   "outputs": [],
   "execution_count": 39
  },
  {
   "cell_type": "code",
   "metadata": {
    "scrolled": true,
    "ExecuteTime": {
     "end_time": "2025-06-30T03:01:53.969821Z",
     "start_time": "2025-06-30T03:01:53.952475Z"
    }
   },
   "source": [
    "%%time\n",
    "# 推論実施\n",
    "interpreter.invoke()\n",
    "tflite_results = interpreter.get_tensor(output_details[0]['index'])"
   ],
   "outputs": [
    {
     "name": "stdout",
     "output_type": "stream",
     "text": [
      "CPU times: total: 0 ns\n",
      "Wall time: 994 µs\n"
     ]
    }
   ],
   "execution_count": 40
  },
  {
   "cell_type": "code",
   "metadata": {
    "ExecuteTime": {
     "end_time": "2025-06-30T03:01:54.596403Z",
     "start_time": "2025-06-30T03:01:54.575875Z"
    }
   },
   "source": [
    "print(np.squeeze(tflite_results))\n",
    "print(np.argmax(np.squeeze(tflite_results)))"
   ],
   "outputs": [
    {
     "name": "stdout",
     "output_type": "stream",
     "text": [
      "[2.9109746e-02 9.6379095e-01 7.0977840e-03 1.3635919e-09 1.4668092e-06\n",
      " 9.0616119e-09]\n",
      "1\n"
     ]
    }
   ],
   "execution_count": 41
  },
  {
   "metadata": {},
   "cell_type": "code",
   "outputs": [],
   "execution_count": null,
   "source": ""
  }
 ],
 "metadata": {
  "kernelspec": {
   "display_name": "Python 3",
   "language": "python",
   "name": "python3"
  },
  "language_info": {
   "codemirror_mode": {
    "name": "ipython",
    "version": 3
   },
   "file_extension": ".py",
   "mimetype": "text/x-python",
   "name": "python",
   "nbconvert_exporter": "python",
   "pygments_lexer": "ipython3",
   "version": "3.8.5"
  }
 },
 "nbformat": 4,
 "nbformat_minor": 4
}
